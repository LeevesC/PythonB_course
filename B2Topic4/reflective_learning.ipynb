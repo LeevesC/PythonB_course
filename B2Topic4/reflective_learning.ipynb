{
 "cells": [
  {
   "attachments": {},
   "cell_type": "markdown",
   "metadata": {},
   "source": [
    "## B2_topic4 refective learning"
   ]
  },
  {
   "attachments": {},
   "cell_type": "markdown",
   "metadata": {},
   "source": [
    "reading & writing text files"
   ]
  },
  {
   "cell_type": "code",
   "execution_count": 8,
   "metadata": {},
   "outputs": [
    {
     "name": "stdout",
     "output_type": "stream",
     "text": [
      "time it all seemed quite natural); but when the Rabbit actually _took a\n",
      "\n",
      "15\n"
     ]
    }
   ],
   "source": [
    "with open(\"carroll1.txt\", 'r') as f:\n",
    "    txt_data = f.readlines()\n",
    "\n",
    "# read the 21st line content\n",
    "print(txt_data[20])\n",
    "\n",
    "count_alice = 0\n",
    "for i in txt_data:\n",
    "    if 'Alice' in i:\n",
    "        count_alice += 1\n",
    "print(count_alice)"
   ]
  },
  {
   "cell_type": "code",
   "execution_count": 61,
   "metadata": {},
   "outputs": [],
   "source": [
    "with open(\"carroll1.txt\", 'r') as f:\n",
    "    txt_data = enumerate(f.readlines(), 1)\n",
    "    "
   ]
  },
  {
   "cell_type": "code",
   "execution_count": 62,
   "metadata": {},
   "outputs": [],
   "source": [
    "# writing the output to a new file next-line.txt overwriting the previous line each time.\n",
    "with open(\"../../Master of DS/core_ComputerScience_7211/week_04/next-linea.txt\", \"a\") as f3:\n",
    "    for line_num, line_content in txt_data:\n",
    "        f3.write(f'{line_num} {line_content}')\n"
   ]
  },
  {
   "cell_type": "code",
   "execution_count": 64,
   "metadata": {},
   "outputs": [],
   "source": [
    "with open(\"carroll1.txt\", 'r') as f:\n",
    "    txt_data = enumerate(f.readlines(), 1)\n",
    "    for line_num, line_content in txt_data:\n",
    "        with open(\"/Users/leeveschou/Desktop/Master of DS/core_ComputerScience_7211/week_04/newtxt.txt\", \"w\") as f4:\n",
    "            f4.write(f'{line_num} {line_content}')"
   ]
  },
  {
   "cell_type": "code",
   "execution_count": null,
   "metadata": {},
   "outputs": [],
   "source": []
  },
  {
   "cell_type": "code",
   "execution_count": 10,
   "metadata": {},
   "outputs": [
    {
     "name": "stdout",
     "output_type": "stream",
     "text": [
      "/Users/leeveschou/Desktop/Master of DS/core_ComputerScience_7211/week_04/Tiny.class\n"
     ]
    }
   ],
   "source": [
    "# how to get the absolute path of a file\n",
    "import os\n",
    "relative_path = \"../../Master of DS/core_ComputerScience_7211/week_04/Tiny.class\"\n",
    "abs_path = os.path.abspath(relative_path)\n",
    "print(abs_path)"
   ]
  },
  {
   "cell_type": "code",
   "execution_count": 25,
   "metadata": {},
   "outputs": [
    {
     "data": {
      "text/plain": [
       "408"
      ]
     },
     "execution_count": 25,
     "metadata": {},
     "output_type": "execute_result"
    }
   ],
   "source": [
    "with open('../../Master of DS/core_ComputerScience_7211/week_04/Tiny.class', 'rb') as f:\n",
    "    data = f.read()\n",
    "    \n",
    "len(data)"
   ]
  },
  {
   "cell_type": "code",
   "execution_count": 26,
   "metadata": {},
   "outputs": [
    {
     "data": {
      "text/plain": [
       "408"
      ]
     },
     "execution_count": 26,
     "metadata": {},
     "output_type": "execute_result"
    }
   ],
   "source": [
    "os.path.getsize('/Users/leeveschou/Desktop/Master of DS/core_ComputerScience_7211/week_04/Tiny.class')"
   ]
  },
  {
   "cell_type": "code",
   "execution_count": 29,
   "metadata": {},
   "outputs": [
    {
     "name": "stdout",
     "output_type": "stream",
     "text": [
      "can not be decoded as text\n"
     ]
    }
   ],
   "source": [
    "try:\n",
    "    with open('../../Master of DS/core_ComputerScience_7211/week_04/Tiny.class', 'r') as f:\n",
    "        data = f.read()\n",
    "    print(data)\n",
    "except:\n",
    "    print('can not be decoded as text' )"
   ]
  },
  {
   "attachments": {},
   "cell_type": "markdown",
   "metadata": {},
   "source": [
    "UTF-16 encoding"
   ]
  },
  {
   "cell_type": "code",
   "execution_count": 31,
   "metadata": {},
   "outputs": [
    {
     "name": "stdout",
     "output_type": "stream",
     "text": [
      "b'\\xff\\xfe'\n"
     ]
    }
   ],
   "source": [
    "with open('../../Master of DS/core_ComputerScience_7211/week_04/utf-16.txt', 'rb') as f:\n",
    "    data = f.read()\n",
    "    \n",
    "print(data[:2])"
   ]
  },
  {
   "cell_type": "code",
   "execution_count": 35,
   "metadata": {},
   "outputs": [],
   "source": [
    "with open('../../Master of DS/core_ComputerScience_7211/week_04/utf-16.txt', 'r', encoding='utf-16') as f:\n",
    "    data = f.readlines()\n",
    "    \n",
    "smile_face = data[2]\n",
    "\n",
    "with open('../../Master of DS/core_ComputerScience_7211/week_04/utf-16-mod.txt', 'w', encoding='utf-16') as f2:\n",
    "    f2.write(smile_face)\n"
   ]
  },
  {
   "cell_type": "code",
   "execution_count": 87,
   "metadata": {},
   "outputs": [
    {
     "name": "stdout",
     "output_type": "stream",
     "text": [
      "21\n"
     ]
    }
   ],
   "source": [
    "with open(\"../../Master of DS/core_ComputerScience_7211/week_04/song-lyrics.txt\", \"r\") as f:\n",
    "    summ = 0\n",
    "    while True:\n",
    "        line_data = f.readline().lower()\n",
    "        if not line_data:# null is false\n",
    "            break\n",
    "        if 'life' in line_data:\n",
    "            summ += 1\n",
    "    print(summ)\n",
    "        \n",
    "    "
   ]
  },
  {
   "cell_type": "code",
   "execution_count": 91,
   "metadata": {},
   "outputs": [
    {
     "name": "stdout",
     "output_type": "stream",
     "text": [
      "21\n"
     ]
    }
   ],
   "source": [
    "with open(\"../../Master of DS/core_ComputerScience_7211/week_04/song-lyrics.txt\", \"r\") as f:\n",
    "    data = f.read()\n",
    "    summ = 0\n",
    "    line_data = data.splitlines()\n",
    "    for i in line_data:\n",
    "        if 'life' in i.lower():\n",
    "            summ += 1\n",
    "    print(summ)"
   ]
  },
  {
   "cell_type": "code",
   "execution_count": 107,
   "metadata": {},
   "outputs": [
    {
     "name": "stdout",
     "output_type": "stream",
     "text": [
      "[['Date', 'Location', 'MinTemp', 'MaxTemp', 'Rainfall', 'Evaporation', 'Sunshine', 'WindGustDir', 'WindGustSpeed', 'WindDir9am', 'WindDir3pm', 'WindSpeed9am', 'WindSpeed3pm', 'Humidity9am', 'Humidity3pm', 'Pressure9am', 'Pressure3pm', 'Cloud9am', 'Cloud3pm', 'Temp9am', 'Temp3pm', 'RainToday', 'RISK_MM', 'RainTomorrow'], ['1/12/08', 'Albury', '13.4', '22.9', '0.6', 'NA', 'NA', 'W', '44', 'W', 'WNW', '20', '24', '71', '22', '1007.7', '1007.1', '8', 'NA', '16.9', '21.8', 'No', '0', 'No'], ['2/12/08', 'Albury', '7.4', '25.1', '0', 'NA', 'NA', 'WNW', '44', 'NNW', 'WSW', '4', '22', '44', '25', '1010.6', '1007.8', 'NA', 'NA', '17.2', '24.3', 'No', '0', 'No'], ['3/12/08', 'Albury', '12.9', '25.7', '0', 'NA', 'NA', 'WSW', '46', 'W', 'WSW', '19', '26', '38', '30', '1007.6', '1008.7', 'NA', '2', '21', '23.2', 'No', '0', 'No'], ['4/12/08', 'Albury', '9.2', '28', '0', 'NA', 'NA', 'NE', '24', 'SE', 'E', '11', '9', '45', '16', '1017.6', '1012.8', 'NA', 'NA', '18.1', '26.5', 'No', '1', 'No']]\n"
     ]
    }
   ],
   "source": [
    "import csv\n",
    "with open(\"../../Master of DS/core_ComputerScience_7211/week_04/weatherAUS.csv\", \"r\") as f:\n",
    "    count = 0\n",
    "    data = list(csv.reader(f))\n",
    "    print(data[:5])"
   ]
  },
  {
   "cell_type": "code",
   "execution_count": 118,
   "metadata": {},
   "outputs": [],
   "source": [
    "import csv\n",
    "with open(\"../../Master of DS/core_ComputerScience_7211/week_04/weatherAUS.csv\", \"r\") as f:\n",
    "    data = csv.DictReader(f)\n",
    "    dic_data = list(data)[:20]\n",
    "    with open(\"../../Master of DS/core_ComputerScience_7211/week_04/weather_mini.csv\", \"w\") as wf:\n",
    "        new_data = csv.writer(wf)\n",
    "        new_data.writerows(dic_data)"
   ]
  },
  {
   "cell_type": "code",
   "execution_count": 152,
   "metadata": {},
   "outputs": [],
   "source": [
    "import json\n",
    "topping = []\n",
    "with open(\"../../Master of DS/core_ComputerScience_7211/week_04/donuts.json\", 'r') as file:\n",
    "    json_data = json.load(file)\n",
    "    for i in json_data:\n",
    "        for j in i.get('topping'):\n",
    "            if j not in topping:\n",
    "                topping.append(j)\n",
    "    topping.sort(key=lambda x:x['id'])\n",
    "    \n",
    "    with open(\"../../Master of DS/core_ComputerScience_7211/week_04/topping.json\", 'w') as file:\n",
    "        json.dump(topping, file)\n"
   ]
  },
  {
   "cell_type": "code",
   "execution_count": 139,
   "metadata": {},
   "outputs": [
    {
     "data": {
      "text/plain": [
       "[1, 2, 3, 4, 6]"
      ]
     },
     "execution_count": 139,
     "metadata": {},
     "output_type": "execute_result"
    }
   ],
   "source": [
    "a = [1,6,4,3,2]\n",
    "a.sort()\n",
    "a"
   ]
  },
  {
   "cell_type": "code",
   "execution_count": 149,
   "metadata": {},
   "outputs": [
    {
     "ename": "TypeError",
     "evalue": "'set' object is not subscriptable",
     "output_type": "error",
     "traceback": [
      "\u001b[0;31m---------------------------------------------------------------------------\u001b[0m",
      "\u001b[0;31mTypeError\u001b[0m                                 Traceback (most recent call last)",
      "Cell \u001b[0;32mIn[149], line 2\u001b[0m\n\u001b[1;32m      1\u001b[0m a \u001b[39m=\u001b[39m {\u001b[39m1\u001b[39m,\u001b[39m2\u001b[39m,\u001b[39m3\u001b[39m,\u001b[39m4\u001b[39m,\u001b[39m1\u001b[39m}\n\u001b[0;32m----> 2\u001b[0m \u001b[39mprint\u001b[39m(a[\u001b[39m0\u001b[39;49m])\n",
      "\u001b[0;31mTypeError\u001b[0m: 'set' object is not subscriptable"
     ]
    }
   ],
   "source": [
    "\n"
   ]
  },
  {
   "cell_type": "code",
   "execution_count": null,
   "metadata": {},
   "outputs": [],
   "source": []
  }
 ],
 "metadata": {
  "kernelspec": {
   "display_name": "base",
   "language": "python",
   "name": "python3"
  },
  "language_info": {
   "codemirror_mode": {
    "name": "ipython",
    "version": 3
   },
   "file_extension": ".py",
   "mimetype": "text/x-python",
   "name": "python",
   "nbconvert_exporter": "python",
   "pygments_lexer": "ipython3",
   "version": "3.9.13"
  },
  "orig_nbformat": 4
 },
 "nbformat": 4,
 "nbformat_minor": 2
}
