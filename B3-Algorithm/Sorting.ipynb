{
 "cells": [
  {
   "cell_type": "markdown",
   "metadata": {},
   "source": [
    "### Quick sort  \n",
    "Key word: Pivot"
   ]
  },
  {
   "cell_type": "markdown",
   "metadata": {},
   "source": [
    "From my understanding  \n",
    "Using two pointer 'low' and 'high', assignment instead of swapping.  \n",
    "Assign the start value as pivot is quite important."
   ]
  },
  {
   "cell_type": "code",
   "execution_count": 1,
   "metadata": {},
   "outputs": [],
   "source": [
    "def quick_sort(arr):\n",
    "    n = len(arr) - 1\n",
    "    return helper_quick(arr, 0, n)\n",
    "\n",
    "def get_pivot(arr, start, end):\n",
    "    povit = arr[start]\n",
    "    low = start\n",
    "    high = end\n",
    "    \n",
    "    while low<high:\n",
    "        while low<high and arr[high]>=povit:\n",
    "            high -= 1\n",
    "        arr[low]=arr[high]\n",
    "        while low<high and arr[low]<=povit:\n",
    "            low += 1\n",
    "        arr[high]=arr[low]\n",
    "    arr[high] = povit\n",
    "\n",
    "    return high\n",
    "\n",
    "def helper_quick(arr, start, end):\n",
    "    if start >= end:\n",
    "        return\n",
    "    \n",
    "    pi = get_pivot(arr, start, end)\n",
    "    helper_quick(arr, start, pi-1)\n",
    "    helper_quick(arr, pi+1, end)"
   ]
  },
  {
   "cell_type": "markdown",
   "metadata": {},
   "source": [
    "### Bubble sort  \n",
    "Key word: Neighbors, Swapping"
   ]
  },
  {
   "cell_type": "code",
   "execution_count": 9,
   "metadata": {},
   "outputs": [],
   "source": [
    "def bubble_sort(arr):\n",
    "    n = len(arr)-1\n",
    "    for i in range(n, 0, -1):\n",
    "        for j in range(i):\n",
    "            if arr[j]>arr[j+1]:\n",
    "                arr[j], arr[j+1] = arr[j+1],arr[j]\n",
    "    return arr"
   ]
  },
  {
   "cell_type": "markdown",
   "metadata": {},
   "source": [
    "### Selection sort  \n",
    "Key word: Max index, Swapping"
   ]
  },
  {
   "cell_type": "code",
   "execution_count": 17,
   "metadata": {},
   "outputs": [],
   "source": [
    "def selection_sort(arr):\n",
    "    n = len(arr)-1\n",
    "    for i in range(n, 0, -1):\n",
    "        max_index = 0\n",
    "        for j in range(1, i+1):\n",
    "            if arr[j] > arr[max_index]:\n",
    "                max_index = j\n",
    "        arr[i], arr[max_index] = arr[max_index], arr[i]\n",
    "    return arr"
   ]
  },
  {
   "cell_type": "markdown",
   "metadata": {},
   "source": [
    "### Insertion sort  \n",
    "Key word: List shift, Swapping\n"
   ]
  },
  {
   "cell_type": "code",
   "execution_count": 30,
   "metadata": {},
   "outputs": [],
   "source": [
    "# From my understanding\n",
    "def insertion_sorl(arr):\n",
    "    for i in range(1, len(arr)):\n",
    "        j = i-1\n",
    "        next_val = arr[i]\n",
    "        \n",
    "        while (arr[j] > next_val) and (j>=0):\n",
    "            arr[j+1] = arr[j]\n",
    "            j -= 1\n",
    "        arr[j+1] = next_val\n",
    "    return arr"
   ]
  },
  {
   "cell_type": "code",
   "execution_count": 24,
   "metadata": {},
   "outputs": [],
   "source": [
    "# From text book, more pythonic way\n",
    "def insertion_sort(lst):\n",
    "    for i, value in enumerate(lst):\n",
    "        for j in range(i-1, -1, -1):\n",
    "            if lst[j] > value:\n",
    "                lst[j+1] = lst[j]\n",
    "                lst[j] = value\n",
    "    return lst"
   ]
  }
 ],
 "metadata": {
  "kernelspec": {
   "display_name": "base",
   "language": "python",
   "name": "python3"
  },
  "language_info": {
   "codemirror_mode": {
    "name": "ipython",
    "version": 3
   },
   "file_extension": ".py",
   "mimetype": "text/x-python",
   "name": "python",
   "nbconvert_exporter": "python",
   "pygments_lexer": "ipython3",
   "version": "3.9.17"
  },
  "orig_nbformat": 4
 },
 "nbformat": 4,
 "nbformat_minor": 2
}
