{
 "cells": [
  {
   "cell_type": "markdown",
   "metadata": {},
   "source": [
    "## Linear Search  \n",
    "From my understanding"
   ]
  },
  {
   "cell_type": "code",
   "execution_count": 3,
   "metadata": {},
   "outputs": [],
   "source": [
    "def linear_search(arr, target):\n",
    "    for i in range(len(arr)):\n",
    "        if arr[i] == target:\n",
    "            return 'True', i\n",
    "        \n",
    "    return 'False'"
   ]
  },
  {
   "cell_type": "markdown",
   "metadata": {},
   "source": [
    "## Binary Search"
   ]
  },
  {
   "cell_type": "markdown",
   "metadata": {},
   "source": [
    "From my understanding  \n",
    "Without recursion"
   ]
  },
  {
   "cell_type": "code",
   "execution_count": 4,
   "metadata": {},
   "outputs": [],
   "source": [
    "def bi_sear(arr, first=None, last=None, target=0):\n",
    "    if first is None or last is None:\n",
    "        first = 0\n",
    "        last = len(arr) - 1\n",
    "    \n",
    "    while last-first > 1:\n",
    "        mid = (first + last + 1)//2\n",
    "        if arr[mid] == target:\n",
    "            return True, mid\n",
    "        \n",
    "        elif arr[mid] > target:\n",
    "            last = mid\n",
    "        \n",
    "        elif arr[mid] < target:\n",
    "            first = mid\n",
    "    \n",
    "    if arr[first] == target:\n",
    "        return True, first\n",
    "    if arr[last] == target:\n",
    "        return True, last\n",
    "    \n",
    "    return False\n",
    "\n",
    "# Learn from below the binary search without recursion could be revised \n",
    "def bi_sear(arr, first=None, last=None, target=0):\n",
    "    if first is None or last is None:\n",
    "        first = 0\n",
    "        last = len(arr)-1\n",
    "    \n",
    "    while first <= last:\n",
    "        mid = (first + last)//2\n",
    "        if arr[mid] == target:\n",
    "            return True, mid\n",
    "        elif arr[mid] > target:\n",
    "            last = mid-1\n",
    "        elif arr[mid] < target:\n",
    "            first = mid+1\n",
    "    \n",
    "    return False"
   ]
  },
  {
   "cell_type": "markdown",
   "metadata": {},
   "source": [
    "My understanding with recursion"
   ]
  },
  {
   "cell_type": "code",
   "execution_count": 5,
   "metadata": {},
   "outputs": [],
   "source": [
    "def bi_sear_recur(arr, first=None, last=None, target=0):\n",
    "    if first is None or last is None:\n",
    "        first = 0\n",
    "        last = len(arr) - 1\n",
    "    \n",
    "    if last >= first:\n",
    "        mid = (first + last)//2\n",
    "        if arr[mid] == target:\n",
    "            return True, mid\n",
    "        elif arr[mid] > target:\n",
    "            return bi_sear_recur(arr, first=first, last=mid-1, target=target)\n",
    "        else:\n",
    "            return bi_sear_recur(arr, first=mid+1, last=last, target=target)\n",
    "    \n",
    "    else:\n",
    "        return False, -1\n",
    "    \n",
    "# Note: first and last arguments should have modified for each recursion. note the mid-1 and mid+1,\n",
    "# which can help to narrow to the edge element."
   ]
  },
  {
   "cell_type": "markdown",
   "metadata": {},
   "source": [
    "## Interpolation Search  \n",
    "From text book"
   ]
  },
  {
   "cell_type": "code",
   "execution_count": null,
   "metadata": {},
   "outputs": [],
   "source": [
    "def interp_search(arr, target):\n",
    "    first = 0\n",
    "    last = len(arr)-1\n",
    "    \n",
    "    while (arr[first]!=arr[last]) and (target<=arr[last]) and (target>=arr[first]):\n",
    "        mid = first + int((last-first) * (target - arr[first]) / (arr[last]-arr[first]))\n",
    "        \n",
    "        if arr[mid] < target:\n",
    "            first = mid + 1\n",
    "        elif arr[mid] > target:\n",
    "            last = mid - 1\n",
    "        else:\n",
    "            return True, mid\n",
    "    \n",
    "    if target == arr[first]:\n",
    "        return True, first\n",
    "    else:\n",
    "        return False\n",
    "# Note: The conditions in the while loop is the most important.\n",
    "# target should be narrow down between the first and the last array."
   ]
  },
  {
   "cell_type": "markdown",
   "metadata": {},
   "source": [
    "## Jump Search  \n",
    "From my own understanding"
   ]
  },
  {
   "cell_type": "code",
   "execution_count": 1,
   "metadata": {},
   "outputs": [],
   "source": [
    "import math\n",
    "def jump_search_adv(alist, target):\n",
    "    n = len(alist)\n",
    "    jump = int(math.sqrt(n))\n",
    "    \n",
    "    i=0\n",
    "    while i<n and alist[i] <= target:\n",
    "        if alist[i] == target:\n",
    "            return f'target position is {i}'\n",
    "        i += jump\n",
    "        \n",
    "    for j in range(i, i-jump, -1):\n",
    "        if j<n and alist[j] == target:\n",
    "            return f'target position is {j}'\n",
    "    \n",
    "    return 'Target not found'\n",
    "# My way is just has one pointer jump from the first position to end.\n",
    "# The way from textbook has two pointer jump from the first section to second section."
   ]
  },
  {
   "cell_type": "markdown",
   "metadata": {},
   "source": [
    "From the textbook"
   ]
  },
  {
   "cell_type": "code",
   "execution_count": null,
   "metadata": {},
   "outputs": [],
   "source": [
    "import math\n",
    "\n",
    "def jump_search_text (slist, match):\n",
    "    length = len(slist)\n",
    "    jump = int(math.sqrt(length))\n",
    "    left, right = 0, 0\n",
    "    \n",
    "    while left < length and slist[left] <= match:\n",
    "        right = min(length - 1, left + jump)\n",
    "        if slist[left] <= match and slist[right] >= match:\n",
    "            break\n",
    "        left += jump\n",
    "    if left >= length or slist[left] > match:\n",
    "        return False, -1\n",
    "    \n",
    "    right = min(length - 1, right)\n",
    "    i = left\n",
    "    while i <= right and slist[i] <= match:\n",
    "        if slist[i] == match:\n",
    "            return True, i\n",
    "        i += 1\n",
    "    return False, -2\n",
    "\n",
    "# In line 13 'slist[left]>match' has only one function that is \n",
    "# when the target is less than the first element in the slist\n",
    "# which can help halt the process and return."
   ]
  }
 ],
 "metadata": {
  "kernelspec": {
   "display_name": "base",
   "language": "python",
   "name": "python3"
  },
  "language_info": {
   "codemirror_mode": {
    "name": "ipython",
    "version": 3
   },
   "file_extension": ".py",
   "mimetype": "text/x-python",
   "name": "python",
   "nbconvert_exporter": "python",
   "pygments_lexer": "ipython3",
   "version": "3.9.17"
  },
  "orig_nbformat": 4
 },
 "nbformat": 4,
 "nbformat_minor": 2
}
