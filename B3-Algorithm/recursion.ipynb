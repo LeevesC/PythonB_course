{
 "cells": [
  {
   "cell_type": "markdown",
   "metadata": {},
   "source": [
    "# Recursion Practice"
   ]
  },
  {
   "cell_type": "markdown",
   "metadata": {},
   "source": [
    "#### Question 01 &nbsp;&nbsp;&nbsp;&nbsp;&nbsp;&nbsp;\n",
    "\n",
    "Create a python function defined as:  \n",
    "```python\n",
    "    def sum_list (numbers):\n",
    "```    \n",
    "that uses recursion to calculate the sum of a list of numbers. For this purpose, the sum of an empty list is zero."
   ]
  },
  {
   "cell_type": "code",
   "execution_count": 1,
   "metadata": {},
   "outputs": [],
   "source": [
    "def sum_list (numbers):\n",
    "    # Write your solution here\n",
    "    if not numbers:\n",
    "        return 0\n",
    "    else:\n",
    "    # YOUR CODE HERE\n",
    "        return numbers[0] + sum_list(numbers[1:])"
   ]
  },
  {
   "cell_type": "markdown",
   "metadata": {},
   "source": [
    "#### Question 02 &nbsp;&nbsp;&nbsp;&nbsp;&nbsp;&nbsp;\n",
    "\n",
    "Create a python function defined as:\n",
    "```python\n",
    "    def append_to_list(n, list_):\n",
    "```    \n",
    "that uses recursion to build and return an ordered list of numbers from n to 0 (inclusive) where `n >= 0`.\n"
   ]
  },
  {
   "cell_type": "code",
   "execution_count": 2,
   "metadata": {},
   "outputs": [],
   "source": [
    "def append_to_list(n, list_=None):\n",
    "    if n == 0:\n",
    "        if list_ is None:\n",
    "            return [0]\n",
    "        else:\n",
    "            list_.append(0)\n",
    "            return list_\n",
    "    else:\n",
    "        if list_ is None:\n",
    "            list_ = []\n",
    "        list_.append(n)\n",
    "        return append_to_list(n-1, list_)"
   ]
  },
  {
   "cell_type": "markdown",
   "metadata": {},
   "source": [
    "#### Question 03 &nbsp;&nbsp;&nbsp;&nbsp;&nbsp;&nbsp;\n",
    "\n",
    "Create a python function defined as:  \n",
    "```python\n",
    "    def rev_append_to_list(n):\n",
    "```  \n",
    "that uses recursion to return an ordered list of numbers from 0 to n. In this case, `list_` is not passed as a parameter to the function. You should be able to trivially modify your approach to Question 2 and use this as a *helper function* that contains parameters and return statements that support recursion whilst the external wrapper function that invokes the helper does not itself recurse. \n"
   ]
  },
  {
   "cell_type": "code",
   "execution_count": 3,
   "metadata": {},
   "outputs": [],
   "source": [
    "def rev_append_to_list(n):\n",
    "    # Write your solution here\n",
    "\n",
    "    # YOUR CODE HERE\n",
    "    if n==0:\n",
    "        return [0]\n",
    "    else:\n",
    "        return rev_append_to_list(n-1) + [n]"
   ]
  },
  {
   "cell_type": "markdown",
   "metadata": {},
   "source": [
    "#### Question 04 &nbsp;&nbsp;&nbsp;&nbsp;&nbsp;&nbsp;\n",
    "Create a python function defined as:  \n",
    "```python\n",
    "    def ladder_word_dict(word):\n",
    "```\n",
    "that uses recursion to return a dictionary with keys `1 to len(word)` and values set as a slice of the input word from `1 to len(word)`. Use a helper function if required.\n",
    "\n",
    "For example:  \n",
    "```python\n",
    "    word = \"Recursion\"  \n",
    "    output = {  \n",
    "        1: \"R\",  \n",
    "        2: \"Re\",  \n",
    "        3: \"Rec\",  \n",
    "        4: \"Recu\",  \n",
    "        ...  \n",
    "        9: \"Recursion\"  \n",
    "    }  \n",
    "```"
   ]
  },
  {
   "cell_type": "code",
   "execution_count": 4,
   "metadata": {},
   "outputs": [],
   "source": [
    "def ladder_word_dict(word):\n",
    "    # Write your solution here\n",
    "\n",
    "    # YOUR CODE HERE\n",
    "    def helper(word, i, output):\n",
    "        if i>len(word):\n",
    "            return output\n",
    "        else:\n",
    "            output[i]=word[:i]\n",
    "            return helper(word, i+1, output)\n",
    "    return helper(word, 1, {})"
   ]
  },
  {
   "cell_type": "markdown",
   "metadata": {},
   "source": [
    "#### Question 05 &nbsp;&nbsp;&nbsp;&nbsp;&nbsp;&nbsp;\n",
    "\n",
    "Write a function defined as:\n",
    "```python\n",
    "    def reverse_string(string):\n",
    "```\n",
    "that uses recursion to return a reversed copy of the string. Where the return value is the same type as the parameter, you can simply attempt this without a helper function."
   ]
  },
  {
   "cell_type": "code",
   "execution_count": 5,
   "metadata": {},
   "outputs": [],
   "source": [
    "def reverse_string(string):\n",
    "    # Write your solution here\n",
    "    \n",
    "    # YOUR CODE HERE\n",
    "    if len(string) == 0:\n",
    "        return ''\n",
    "    else:\n",
    "        return string[-1]+reverse_string(string[:len(string)-1])"
   ]
  },
  {
   "cell_type": "markdown",
   "metadata": {},
   "source": [
    "#### Question 06 &nbsp;&nbsp;&nbsp;&nbsp;&nbsp;&nbsp;\n",
    "\n",
    "Write a function defined as:\n",
    "```python\n",
    "    def raise_to_power (base, exp):\n",
    "```        \n",
    "that takes a base and an exponent as parameters and recursively computes base<sup>exp</sup>. Recall that base<sup>0</sup> == 1. Both `base` and `exp` are `>= 0'.\n"
   ]
  },
  {
   "cell_type": "code",
   "execution_count": 6,
   "metadata": {},
   "outputs": [],
   "source": [
    "def raise_to_power (base, exp):\n",
    "    # Write your solution here\n",
    "    if exp==0:\n",
    "        return 1\n",
    "    else:\n",
    "        return base * raise_to_power(base, exp-1)"
   ]
  },
  {
   "cell_type": "markdown",
   "metadata": {},
   "source": [
    "#### Question 07 &nbsp;&nbsp;&nbsp;&nbsp;&nbsp;&nbsp;\n",
    "\n",
    "Write a function defined as:\n",
    "```python\n",
    "    def factorial(n):\n",
    "```\n",
    "\n",
    "that recursively computes and returns the factorial of a non-negative integer. Recall that 0! = 1."
   ]
  },
  {
   "cell_type": "code",
   "execution_count": 7,
   "metadata": {},
   "outputs": [],
   "source": [
    "def factorial(n):\n",
    "    # Write your solution here\n",
    "\n",
    "    # YOUR CODE HERE\n",
    "    if n==0:\n",
    "        return 1\n",
    "    else:\n",
    "        return n*factorial(n-1)"
   ]
  },
  {
   "cell_type": "markdown",
   "metadata": {},
   "source": [
    "#### Question 08 &nbsp;&nbsp;&nbsp;&nbsp;&nbsp;&nbsp;\n",
    "\n",
    "Given a non-negative integer such as `3422`, write a function defined as:\n",
    "```python\n",
    "    def sum_digits(n):\n",
    "```   \n",
    "that uses recursion to return the integer sum of each of the digits of the input number.\n",
    "\n",
    "For example:\n",
    "```\n",
    "    sum_digits(3422) == 11\n",
    "    sum_digits(345) == 12\n",
    "    sum_digits(45) == 9\n",
    "```"
   ]
  },
  {
   "cell_type": "code",
   "execution_count": 8,
   "metadata": {},
   "outputs": [],
   "source": [
    "def sum_digits(n):\n",
    "    # Write your solution here\n",
    "    if n//10 == 0:\n",
    "        return n\n",
    "    # YOUR CODE HERE\n",
    "    else:\n",
    "        return n%10 + sum_digits(n//10)"
   ]
  },
  {
   "cell_type": "markdown",
   "metadata": {},
   "source": [
    "#### Question 09 &nbsp;&nbsp;&nbsp;&nbsp;&nbsp;&nbsp;\n",
    "\n",
    "Write a function defined as:\n",
    "```python\n",
    "    def harmonic(n):\n",
    "```\n",
    "that recursively calculates the harmonic sum of `n - 1`. \n",
    "\n",
    "The \"harmonic sum\" is the sum of the reciprocals of the positive integers like: \n",
    "  \n",
    "$$1 + \\frac{1}{2} + \\frac{1}{3} + \\frac{1}{4} + \\frac{1}{5} + \\ldots$$\n",
    "\n",
    "for example:\n",
    "\n",
    "    harmonic (1) == 1\n",
    "    harmonic (2) == 1.5\n",
    "    harmonic (6) == 2.45"
   ]
  },
  {
   "cell_type": "code",
   "execution_count": 9,
   "metadata": {},
   "outputs": [],
   "source": [
    "def harmonic(n):\n",
    "    # Write your solution here\n",
    "\n",
    "    # YOUR CODE HERE\n",
    "    if n==1:\n",
    "        return n\n",
    "    else:\n",
    "        return 1/n + harmonic(n-1)"
   ]
  },
  {
   "cell_type": "markdown",
   "metadata": {},
   "source": [
    "#### Question 10 &nbsp;&nbsp;&nbsp;&nbsp;&nbsp;&nbsp;\n",
    "\n",
    "Write a function defined as:\n",
    "```python\n",
    "    def gcd(i1, i2):\n",
    "```\n",
    "that recursively computes and returns the greatest common divisor of two integers."
   ]
  },
  {
   "cell_type": "code",
   "execution_count": 10,
   "metadata": {},
   "outputs": [],
   "source": [
    "def gcd(i1, i2):\n",
    "    # Write your solution here\n",
    "\n",
    "    # YOUR CODE HERE\n",
    "    if i2==0:\n",
    "        return i1\n",
    "    else:\n",
    "        return gcd(i2, i1%i2)"
   ]
  },
  {
   "cell_type": "markdown",
   "metadata": {},
   "source": [
    "#### Question 11 &nbsp;&nbsp;&nbsp;&nbsp;&nbsp;&nbsp;\n",
    "\n",
    "Write a recursive function defined as: \n",
    "```python\n",
    "def nth_fibonacci (n):\n",
    "```\n",
    "that takes in one argument n and computes F<sub>n</sub>, the n'th value of the Fibonacci sequence. \n",
    "\n",
    "Recall that the Fibonacci sequence is defined by the relation:  \n",
    "&ensp;F<sub>n</sub> = F<sub>n−1</sub> + F<sub>n−2</sub> where F<sub>0</sub> = 0 and F<sub>1</sub> = 1. \n",
    "\n",
    "Thus, in the sequence:`0, 1, 1, 2, 3, 5, 8, 13, 21, 34, 55, 89, 144, 233`, the 9th value of the sequence (F<sub>8</sub>) is 21."
   ]
  },
  {
   "cell_type": "code",
   "execution_count": 11,
   "metadata": {},
   "outputs": [],
   "source": [
    "def nth_fibonacci (n):\n",
    "    # Write your solution here\n",
    "    if n==0:\n",
    "        return 0\n",
    "    elif n==1:\n",
    "        return 1\n",
    "    else:\n",
    "        return nth_fibonacci(n-1) + nth_fibonacci(n-2)"
   ]
  },
  {
   "cell_type": "markdown",
   "metadata": {},
   "source": [
    "#### Question 12 &nbsp;&nbsp;&nbsp;&nbsp;&nbsp;&nbsp;(15 Points)\n",
    "\n",
    "You have semi-sorted data that consists of a dictionary of student scores in a recent prac. In the dictionary, the key is always a student number in the form `a0000000` and the value is either:\n",
    "<ul><li>an integer representing the student's score from 0..100, or</li>\n",
    "    <li>a nested dictionary with further key:value pairs</li></ul>\n",
    "\n",
    "For example:\n",
    "```python\n",
    "{'a1000000': {'a1000002': 76, 'a1000351': 50, 'a1003202': 59},\n",
    " 'a2000000': {'a2002202': 56,\n",
    "              'a2002535': 57,\n",
    "              'a2005452': 79,\n",
    "              'a2200000': {'a2200354': 65,\n",
    "                           'a2201029': 80,\n",
    "                           'a2212332': 12,\n",
    "                           'a2240000': {'a2249834': 87}}}}\n",
    "```\n",
    "***\n",
    "<br/>\n",
    "We wish to extract a \"flat\" list of tuples from this nested data structure where each tuple contains (student_id, score) for all elements of the source dictionary. Values of the dictionary which are themselves a dictionary are not added to the list. The list should be sorted by the first element of each tuple (the student number).</br>\n",
    "\n",
    "For example:</br>\n",
    "```python\n",
    "[('a1000002', 76),\n",
    " ('a1000351', 50),\n",
    " ('a1003202', 59),\n",
    " ('a2002202', 56),\n",
    " ('a2002535', 57),\n",
    " ('a2005452', 79),\n",
    " ('a2200354', 65),\n",
    " ('a2201029', 80),\n",
    " ('a2212332', 12),\n",
    " ('a2249834', 87)]\n",
    "```\n",
    "\n",
    "Write a function defined as: \n",
    "```python\n",
    "def flatten_nested_scores (student_id_score_dict):\n",
    "```\n",
    "that recursively traverses the nested dictionary and returns a list of tuples, sorted by student ID, each containing id and score."
   ]
  },
  {
   "cell_type": "code",
   "execution_count": 12,
   "metadata": {},
   "outputs": [],
   "source": [
    "def flatten_nested_scores (student_id_score_dict):\n",
    "    # Write your solution here\n",
    "    flat_list=[]\n",
    "    for stuid, score in student_id_score_dict.items():\n",
    "        if isinstance(score, dict):\n",
    "            flat_list.extend(flatten_nested_scores(score))\n",
    "        else:\n",
    "            flat_list.append((stuid, score))\n",
    "    # YOUR CODE HERE\n",
    "    flat_list.sort()\n",
    "    return flat_list"
   ]
  },
  {
   "cell_type": "markdown",
   "metadata": {},
   "source": [
    "#### Question 13 &nbsp;&nbsp;&nbsp;&nbsp;&nbsp;&nbsp;\n",
    "\n",
    "A palindrome is a word or phrase that reads the same backward as it does forward. Examples include the following:\n",
    "<ul><li>Glenelg</li>\n",
    "    <li>A nut for a jar of tuna</li>\n",
    "    <li>Taco cat</li>\n",
    "    <li>Murder for a jar of red rum</li></ul>\n",
    "\n",
    "You are to write a function that uses recursion to detect whether an input phrase is a palindrome (excluding whitespace and ignoring the case of each letter). You might consider a base case where an empty string or a single character is inherently \"palindromic\". \n",
    "\n",
    "Write a function defined as:\n",
    "```python\n",
    "def is_palindrome(phrase):\n",
    "```\n",
    "that returns True when the phrase is a palindrome (ignoring whitespace and case)."
   ]
  },
  {
   "cell_type": "code",
   "execution_count": 13,
   "metadata": {},
   "outputs": [],
   "source": [
    "def is_palindrome(phrase):\n",
    "    # Write your solution here\n",
    "    news = phrase.lower().replace(' ','')\n",
    "    # YOUR CODE HERE\n",
    "    if len(news)<2:\n",
    "        return True\n",
    "    elif news[0]==news[-1]:\n",
    "        return is_palindrome(news[1:-1])\n",
    "    return False"
   ]
  },
  {
   "cell_type": "markdown",
   "metadata": {},
   "source": [
    "#### Recursion for selection sort algorithm\n",
    "1. sorting the original list\n",
    "2. creating a new list"
   ]
  },
  {
   "cell_type": "code",
   "execution_count": 14,
   "metadata": {},
   "outputs": [],
   "source": [
    "def recursive_selection_sort(lis, n=None):\n",
    "    if n is None:\n",
    "        n = len(lis)\n",
    "\n",
    "    # base case\n",
    "    if n <= 1:\n",
    "        return\n",
    "\n",
    "    max_index = 0\n",
    "    for i in range(n):\n",
    "        if lis[i] > lis[max_index]:\n",
    "            max_index = i\n",
    "            \n",
    "    # Swap the maximum element with the last element\n",
    "    lis[max_index], lis[n-1] = lis[n-1], lis[max_index]\n",
    "\n",
    "    # Recursive call on the remainder of the list\n",
    "    recursive_selection_sort(lis, n-1)\n",
    "\n",
    "    return lis"
   ]
  },
  {
   "cell_type": "code",
   "execution_count": 15,
   "metadata": {},
   "outputs": [],
   "source": [
    "def recursive_selection_sort(lis, sorted_list=None):\n",
    "    if sorted_list is None:\n",
    "        sorted_list = []\n",
    "\n",
    "    if len(lis) == 0:\n",
    "        return sorted_list\n",
    "    \n",
    "    max_value = max(lis)\n",
    "    sorted_list.append(max_value)\n",
    "    lis.remove(max_value)\n",
    "    \n",
    "    return recursive_selection_sort(lis, sorted_list)"
   ]
  },
  {
   "cell_type": "markdown",
   "metadata": {},
   "source": [
    "#### Bubble sort in recursion implementation"
   ]
  },
  {
   "cell_type": "code",
   "execution_count": 16,
   "metadata": {},
   "outputs": [],
   "source": [
    "def recursive_bubble_sort (intlist, n=None):\n",
    "    # Write your solution here\n",
    "    if n is None:\n",
    "        n=len(intlist)\n",
    "    if n<=0:\n",
    "        return\n",
    "    for i in range(n-1):\n",
    "        if intlist[i] >= intlist[i+1]:\n",
    "            intlist[i], intlist[i+1] = intlist[i+1], intlist[i]\n",
    "    recursive_bubble_sort(intlist, n-1)"
   ]
  },
  {
   "cell_type": "markdown",
   "metadata": {},
   "source": [
    "### insert sort with recursion"
   ]
  },
  {
   "cell_type": "code",
   "execution_count": null,
   "metadata": {},
   "outputs": [],
   "source": [
    "def recursive_insertion_sort(arr, n):\n",
    "    # base case\n",
    "    if n<=1:\n",
    "        return\n",
    "    \n",
    "    # sort first n-1 elements\n",
    "    recursive_insertion_sort(arr,n-1)\n",
    "    \n",
    "    # insert nth element into sorted array\n",
    "    last = arr[n-1]\n",
    "    j = n-2\n",
    "\n",
    "    # move elements of arr[0..i-1], that are greater than key, to one position ahead of their current position \n",
    "    while (j>=0 and arr[j]>last):\n",
    "        arr[j+1] = arr[j]\n",
    "        j -= 1\n",
    "    arr[j+1] = last\n",
    "\n",
    "    return arr"
   ]
  },
  {
   "cell_type": "code",
   "execution_count": null,
   "metadata": {},
   "outputs": [],
   "source": [
    "def bi_sear_recur(arr, first=None, last=None, target=0):\n",
    "    if first is None or last is None:\n",
    "        first = 0\n",
    "        last = len(arr) - 1\n",
    "    \n",
    "    if last >= first:\n",
    "        mid = (first + last)//2\n",
    "        if arr[mid] == target:\n",
    "            return True, mid\n",
    "        elif arr[mid] > target:\n",
    "            return bi_sear_recur(arr, first=first, last=mid-1, target=target)\n",
    "        else:\n",
    "            return bi_sear_recur(arr, first=mid+1, last=last, target=target)\n",
    "    \n",
    "    else:\n",
    "        return False, -1"
   ]
  }
 ],
 "metadata": {
  "kernelspec": {
   "display_name": "base",
   "language": "python",
   "name": "python3"
  },
  "language_info": {
   "codemirror_mode": {
    "name": "ipython",
    "version": 3
   },
   "file_extension": ".py",
   "mimetype": "text/x-python",
   "name": "python",
   "nbconvert_exporter": "python",
   "pygments_lexer": "ipython3",
   "version": "3.9.17"
  },
  "orig_nbformat": 4
 },
 "nbformat": 4,
 "nbformat_minor": 2
}
