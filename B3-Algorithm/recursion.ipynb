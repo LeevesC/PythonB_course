{
 "cells": [
  {
   "cell_type": "markdown",
   "metadata": {},
   "source": [
    "# Recursion Practice"
   ]
  },
  {
   "cell_type": "markdown",
   "metadata": {},
   "source": [
    "Uses recursion to calculate the sum of a list of numbers. For this purpose, the sum of an empty list is zero.  \n",
    "**Output type: int**  \n",
    "**Input type: list**  \n",
    "**Stopping condition: list is empty**"
   ]
  },
  {
   "cell_type": "code",
   "execution_count": 1,
   "metadata": {},
   "outputs": [],
   "source": [
    "def sum_list (numbers):\n",
    "    # Write your solution here\n",
    "    if not numbers:\n",
    "        return 0\n",
    "    else:\n",
    "    # YOUR CODE HERE\n",
    "        return numbers[0] + sum_list(numbers[1:])"
   ]
  },
  {
   "cell_type": "markdown",
   "metadata": {},
   "source": [
    "Use recursion to build and return an ordered list of numbers from n to 0 (inclusive) where `n >= 0`.  \n",
    "**Output type: list**  \n",
    "**Input type: int**  \n",
    "**Stopping condition: n<0**"
   ]
  },
  {
   "cell_type": "code",
   "execution_count": 2,
   "metadata": {},
   "outputs": [],
   "source": [
    "def append_to_list(n, arr=None):\n",
    "    if arr is None:\n",
    "        arr = []\n",
    "        \n",
    "    if n>=0:\n",
    "        arr.append(n)\n",
    "        return append_to_list(n-1, arr)\n",
    "    else:\n",
    "        return arr"
   ]
  },
  {
   "cell_type": "code",
   "execution_count": null,
   "metadata": {},
   "outputs": [],
   "source": [
    "# Using helper function in recursion\n",
    "def ord_lis_exp(n):\n",
    "    return helper_order(n, [])\n",
    "\n",
    "def helper_order(n, arr):\n",
    "    if n == 0:\n",
    "        arr.append(0)\n",
    "        return arr\n",
    "    else:\n",
    "        arr.append(n)\n",
    "        return helper_order(n-1, arr)"
   ]
  },
  {
   "cell_type": "markdown",
   "metadata": {},
   "source": [
    "Use recursion to return an ordered list of numbers from 0 to n.  \n",
    "**Output type: list**  \n",
    "**Input type: int**  \n",
    "**Stopping condition: n<0**"
   ]
  },
  {
   "cell_type": "code",
   "execution_count": null,
   "metadata": {},
   "outputs": [],
   "source": [
    "def rev_append_to_list(n):\n",
    "    if n==0:\n",
    "        return [0]\n",
    "    else:\n",
    "        return rev_append_to_list(n-1) + [n]"
   ]
  },
  {
   "cell_type": "markdown",
   "metadata": {},
   "source": [
    "Use recursion to return a dictionary with keys `1 to len(word)` and values set as a slice of the input word from `1 to len(word)`. Use a helper function if required.\n",
    "For example:\n",
    "    word = \"Recursion\"  \n",
    "    output = {1: \"R\",2: \"Re\",3: \"Rec\",4: \"Recu\",...  9: \"Recursion\"}  \n",
    "**Output type: dict**  \n",
    "**Input type: string**  \n",
    "**Helper function: True**  \n",
    "**Stopping condition: n larger than length of the word**  \n",
    "> NOTE: Focus on the types of output and input, if they are the same things gonna be easy. If they are not same, helper function can be taken into consideration."
   ]
  },
  {
   "cell_type": "code",
   "execution_count": 4,
   "metadata": {},
   "outputs": [],
   "source": [
    "def ladder_word(word):\n",
    "    return ladder_word_helper(word, 1, {})\n",
    "\n",
    "def ladder_word_helper(word, n, out_dict):\n",
    "    if n > len(word):\n",
    "        return out_dict\n",
    "    else:\n",
    "        out_dict[n] = word[:n]\n",
    "        return ladder_word_helper(word, n + 1, out_dict)"
   ]
  },
  {
   "cell_type": "markdown",
   "metadata": {},
   "source": [
    "Use recursion to return a reversed copy of the string.  \n",
    "**Output type: string**  \n",
    "**Input type: string**  \n",
    "**Helper func: False**  \n",
    "**Stopping condition: n equals 0**  "
   ]
  },
  {
   "cell_type": "code",
   "execution_count": 5,
   "metadata": {},
   "outputs": [],
   "source": [
    "def reverse_string(string):\n",
    "    n = len(string)\n",
    "    if n == 0:\n",
    "        return ''\n",
    "    else:\n",
    "        return string[-1] + reverse_string(string[:(n-1)])\n",
    "    \n",
    "# Note: n is not needed, because you can replace all ns with len(string)"
   ]
  },
  {
   "cell_type": "markdown",
   "metadata": {},
   "source": [
    "Write a function that takes a base and an exponent as parameters and recursively computes base<sup>exp</sup>. Recall that base<sup>0</sup> == 1. Both `base` and `exp` are `>= 0'.  \n",
    "**Output type: int**  \n",
    "**Input type: int**  \n",
    "**Helper func: False**  \n",
    "**Stopping condition: base equals 0**  \n"
   ]
  },
  {
   "cell_type": "code",
   "execution_count": 6,
   "metadata": {},
   "outputs": [],
   "source": [
    "def raise_to_power (base, exp):\n",
    "    # Write your solution here\n",
    "    if exp==0:\n",
    "        return 1\n",
    "    else:\n",
    "        return base * raise_to_power(base, exp-1)"
   ]
  },
  {
   "cell_type": "markdown",
   "metadata": {},
   "source": [
    "Write a function defined 'def factorial(n)' that recursively computes and returns the factorial of a non-negative integer. Recall that 0! = 1.  \n",
    "**Output type: int**  \n",
    "**Input type: int**  \n",
    "**Helper func: False**  \n",
    "**Stopping condition: n equals 0**"
   ]
  },
  {
   "cell_type": "code",
   "execution_count": 7,
   "metadata": {},
   "outputs": [],
   "source": [
    "def factorial(n):\n",
    "    if n==0:\n",
    "        return 1\n",
    "    else:\n",
    "        return n*factorial(n-1)"
   ]
  },
  {
   "cell_type": "markdown",
   "metadata": {},
   "source": [
    "Given a non-negative integer such as `3422`, write a function defined as:\n",
    "'def sum_digits(n)' that uses recursion to return the integer sum of each of the digits of the input number.\n",
    "For example: sum_digits(3422) == 11, sum_digits(345) == 12  \n",
    "**Output type: int**  \n",
    "**Input type: int**  \n",
    "**Helper func: False**  \n",
    "**Stopping condition: n is single digit number**"
   ]
  },
  {
   "cell_type": "code",
   "execution_count": 8,
   "metadata": {},
   "outputs": [],
   "source": [
    "def sum_digits(n):\n",
    "    if n//10 == 0:\n",
    "        return n\n",
    "    else:\n",
    "        return n%10 + sum_digits(n//10)"
   ]
  },
  {
   "cell_type": "markdown",
   "metadata": {},
   "source": [
    "Write a function defined 'def harmonic(n)' that recursively calculates the harmonic sum of `n - 1`. \n",
    "\n",
    "The \"harmonic sum\" is the sum of the reciprocals of the positive integers like: \n",
    "  \n",
    "$$1 + \\frac{1}{2} + \\frac{1}{3} + \\frac{1}{4} + \\frac{1}{5} + \\ldots$$\n",
    "\n",
    "for example:harmonic (1) == 1, harmonic (2) == 1.5,harmonic (6) == 2.45  \n",
    "**Output type: int**  \n",
    "**Input type: float**  \n",
    "**Helper func: False**  \n",
    "**Stopping condition: n equals 1**"
   ]
  },
  {
   "cell_type": "code",
   "execution_count": 9,
   "metadata": {},
   "outputs": [],
   "source": [
    "def harmonic(n):\n",
    "    if n==1:\n",
    "        return 1\n",
    "    else:\n",
    "        return 1/n + harmonic(n-1)"
   ]
  },
  {
   "cell_type": "markdown",
   "metadata": {},
   "source": [
    "Write a function defined as 'def gcd(i1, i2)'that recursively computes and returns the greatest common divisor of two integers.  \n",
    "**Output type: int**  \n",
    "**Input type: int**  \n",
    "**Helper func: False**  \n",
    "**Stopping condition: someone equals 0**"
   ]
  },
  {
   "cell_type": "code",
   "execution_count": 10,
   "metadata": {},
   "outputs": [],
   "source": [
    "def gcd(i1, i2):\n",
    "    if i2==0:\n",
    "        return i1\n",
    "    else:\n",
    "        return gcd(i2, i1%i2)\n",
    "\n",
    "# another way\n",
    "def gcd(i1, i2):\n",
    "    min_val = min(i1, i2)\n",
    "    max_val = max(i1, i2)\n",
    "    if max_val % min_val == 0:\n",
    "        return min_val\n",
    "    else:\n",
    "        return gcd(i1-1, i2-1)"
   ]
  },
  {
   "cell_type": "markdown",
   "metadata": {},
   "source": [
    "Write a recursive function defined as 'def nth_fibonacci (n)' that takes in one argument n and computes F<sub>n</sub>, the n'th value of the Fibonacci sequence. \n",
    "\n",
    "Recall that the Fibonacci sequence is defined by the relation:  \n",
    "&ensp;F<sub>n</sub> = F<sub>n−1</sub> + F<sub>n−2</sub> where F<sub>0</sub> = 0 and F<sub>1</sub> = 1. \n",
    "\n",
    "Thus, in the sequence:`0, 1, 1, 2, 3, 5, 8, 13, 21, 34, 55, 89, 144, 233`, the 9th value of the sequence (F<sub>8</sub>) is 21.  \n",
    "**Output type: int**  \n",
    "**Input type: int**  \n",
    "**Helper func: False**  \n",
    "**Stopping condition: n equals 0 and 1**"
   ]
  },
  {
   "cell_type": "code",
   "execution_count": 11,
   "metadata": {},
   "outputs": [],
   "source": [
    "def nth_fibonacci (n):\n",
    "    # Write your solution here\n",
    "    if n==0:\n",
    "        return 0\n",
    "    elif n==1:\n",
    "        return 1\n",
    "    else:\n",
    "        return nth_fibonacci(n-1) + nth_fibonacci(n-2)"
   ]
  },
  {
   "cell_type": "markdown",
   "metadata": {},
   "source": [
    "You have semi-sorted data that consists of a dictionary of student scores in a recent prac. In the dictionary, the key is always a student number in the form `a0000000` and the value is either:\n",
    "<ul><li>an integer representing the student's score from 0..100, or</li>\n",
    "    <li>a nested dictionary with further key:value pairs</li></ul>\n",
    "\n",
    "For example:\n",
    "```python\n",
    "{'a1000000': {'a1000002': 76, 'a1000351': 50, 'a1003202': 59},\n",
    " 'a2000000': {'a2002202': 56,\n",
    "              'a2002535': 57,\n",
    "              'a2005452': 79,\n",
    "              'a2200000': {'a2200354': 65,\n",
    "                           'a2201029': 80,\n",
    "                           'a2212332': 12,\n",
    "                           'a2240000': {'a2249834': 87}}}}\n",
    "```\n",
    "***\n",
    "\n",
    "We wish to extract a \"flat\" list of tuples from this nested data structure where each tuple contains (student_id, score) for all elements of the source dictionary. Values of the dictionary which are themselves a dictionary are not added to the list. The list should be sorted by the first element of each tuple (the student number).\n",
    "\n",
    "For example:\n",
    "[('a1000002', 76),\n",
    " ('a1000351', 50),\n",
    " ('a1003202', 59),\n",
    " ('a2002202', 56),\n",
    " ('a2002535', 57),\n",
    " ('a2005452', 79),\n",
    " ('a2200354', 65),\n",
    " ('a2201029', 80),\n",
    " ('a2212332', 12),\n",
    " ('a2249834', 87)]\n",
    "\n",
    "Write a function defined as: \n",
    "'def flatten_nested_scores (student_id_score_dict)' that recursively traverses the nested dictionary and returns a list of tuples, sorted by student ID, each containing id and score.  \n",
    "**Input type: dict**  \n",
    "**Output type: list**  \n",
    "**Helper func: True**  \n",
    "**Stopping condition: using a for loop**"
   ]
  },
  {
   "cell_type": "code",
   "execution_count": null,
   "metadata": {},
   "outputs": [],
   "source": [
    "def extrc(scor_dict):\n",
    "    result = extrc_helper(scor_dict, [])\n",
    "    result.sort()\n",
    "    return result\n",
    "    \n",
    "def extrc_helper(scor_dict, arr):\n",
    "    for k,v in scor_dict.items():\n",
    "        if isinstance(v, int):\n",
    "            arr.append((k,v))\n",
    "        else:\n",
    "            extrc_helper(v, arr)\n",
    "    return arr"
   ]
  },
  {
   "cell_type": "code",
   "execution_count": 12,
   "metadata": {},
   "outputs": [],
   "source": [
    "# other way that chacking value is dict or not.\n",
    "def exct(scor_dict):\n",
    "    result = flatten_nested_scores(scor_dict, [])\n",
    "    result.sort()\n",
    "    return result\n",
    "\n",
    "def flatten_nested_scores(scor_dict, arr):\n",
    "    for k, v in scor_dict.items():\n",
    "        if isinstance(v, dict):\n",
    "            arr.extend(flatten_nested_scores(v,[]))\n",
    "        else:\n",
    "            arr.append((k, v))\n",
    "    return arr"
   ]
  },
  {
   "cell_type": "markdown",
   "metadata": {},
   "source": [
    "A palindrome is a word or phrase that reads the same backward as it does forward. Examples include the following:\n",
    "<li>Glenelg</li>\n",
    "    <li>A nut for a jar of tuna</li>\n",
    "    <li>Taco cat</li>\n",
    "You are to write a function that uses recursion to detect whether an input phrase is a palindrome (excluding whitespace and ignoring the case of each letter). You might consider a base case where an empty string or a single character is inherently \"palindromic\".  \n",
    "Write a function that returns True when the phrase is a palindrome (ignoring whitespace and case).  \n",
    "\n",
    "**Input type: string**  \n",
    "**Output type: Bool**  \n",
    "**Helper func: True**  \n",
    "**Stopping condition: using a for loop**"
   ]
  },
  {
   "cell_type": "code",
   "execution_count": 2,
   "metadata": {},
   "outputs": [],
   "source": [
    "def is_palindrome(phrase):\n",
    "    mod_str = phrase.replace(' ','').lower()\n",
    "    return helper(mod_str) == mod_str\n",
    "    \n",
    "def helper(phrase):\n",
    "    if len(phrase) == 0:\n",
    "        return ''\n",
    "    else:\n",
    "        return phrase[-1] + helper(phrase[:(len(phrase)-1)]) "
   ]
  },
  {
   "cell_type": "markdown",
   "metadata": {},
   "source": [
    "#### Selection sort  \n",
    "**Input type: list**  \n",
    "**Output type: list**  \n",
    "**Helper func: Both are ok**  \n",
    "**Stopping condition: until n equals 1**  \n",
    "Sorting the original list, creating a new list"
   ]
  },
  {
   "cell_type": "code",
   "execution_count": 14,
   "metadata": {},
   "outputs": [],
   "source": [
    "def recursive_selection_sort(arr):\n",
    "    n = len(arr)\n",
    "    return helper_select(arr, n)\n",
    "    \n",
    "def helper_select(arr, n):\n",
    "    if n <= 1:\n",
    "        return\n",
    "    \n",
    "    max_index = 0\n",
    "    for i in range(n):\n",
    "        if arr[i] > arr[max_index]:\n",
    "            max_index = i\n",
    "    arr[n-1], arr[max_index] = arr[max_index], arr[n-1]\n",
    "    helper_select(arr, n-1)\n",
    "    \n",
    "    return arr"
   ]
  },
  {
   "cell_type": "markdown",
   "metadata": {},
   "source": [
    "#### Bubble sort in recursion implementation  \n",
    "**Input type: list**  \n",
    "**Output type: list**  \n",
    "**Helper func: Both are ok**  \n",
    "**Stopping condition: until n equals 0**"
   ]
  },
  {
   "cell_type": "code",
   "execution_count": 16,
   "metadata": {},
   "outputs": [],
   "source": [
    "def recursive_bubble_sort(arr):\n",
    "    n = len(arr)\n",
    "    return helper_bubble(arr, n)\n",
    "    \n",
    "def helper_bubble(arr, n):\n",
    "    if n<=0:\n",
    "        return\n",
    "    for i in range(n-1):\n",
    "        if arr[i] >= arr[i+1]:\n",
    "            arr[i], arr[i+1] = arr[i+1], arr[i]\n",
    "    helper_bubble(arr, n-1)\n",
    "    return arr"
   ]
  },
  {
   "cell_type": "markdown",
   "metadata": {},
   "source": [
    "#### Insert sort with recursion  \n",
    "**Input type: list**  \n",
    "**Output type: list**  \n",
    "**Helper func: Both are ok**  \n",
    "**Stopping condition: until n equals 1**  "
   ]
  },
  {
   "cell_type": "code",
   "execution_count": null,
   "metadata": {},
   "outputs": [],
   "source": [
    "def recursive_insertion_sort(arr):\n",
    "    n = len(arr)\n",
    "    return helper_insertion(arr, n)\n",
    "\n",
    "def helper_insertion(arr, n):\n",
    "    if n<=1:\n",
    "        return\n",
    "    helper_insertion(arr, n-1)\n",
    "    last = arr[n-1]\n",
    "    j = n-2\n",
    "    \n",
    "    while j>=0 and arr[j]>last:\n",
    "        arr[j+1] = arr[j]\n",
    "        j -=1\n",
    "    arr[j+1]=last\n",
    "    \n",
    "    return arr"
   ]
  },
  {
   "cell_type": "markdown",
   "metadata": {},
   "source": [
    "#### Recursive Search  \n",
    "**Input type: list**  \n",
    "**Output type: list**  \n",
    "**Helper func: True**  \n",
    "**Stopping condition: until n equals 0**  "
   ]
  },
  {
   "cell_type": "code",
   "execution_count": null,
   "metadata": {},
   "outputs": [],
   "source": [
    "def recursive_binary_search(arr, target):\n",
    "    first = 0\n",
    "    last = len(arr) - 1\n",
    "    return helper_binary(arr, target, first, last)\n",
    "\n",
    "def helper_binary(arr, target, first, last):\n",
    "    if last >= first:\n",
    "        mid = (first+last) // 2\n",
    "        if arr[mid] == target:\n",
    "            return True, mid\n",
    "        elif arr[mid] > target:\n",
    "            return helper_binary(arr, target, first, last=mid-1)\n",
    "        else:\n",
    "            return helper_binary(arr, target, first=mid+1, last=last)\n",
    "    else:\n",
    "        return False"
   ]
  }
 ],
 "metadata": {
  "kernelspec": {
   "display_name": "base",
   "language": "python",
   "name": "python3"
  },
  "language_info": {
   "codemirror_mode": {
    "name": "ipython",
    "version": 3
   },
   "file_extension": ".py",
   "mimetype": "text/x-python",
   "name": "python",
   "nbconvert_exporter": "python",
   "pygments_lexer": "ipython3",
   "version": "3.9.17"
  },
  "orig_nbformat": 4
 },
 "nbformat": 4,
 "nbformat_minor": 2
}
