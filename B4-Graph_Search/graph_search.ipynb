{
 "cells": [
  {
   "cell_type": "markdown",
   "metadata": {},
   "source": [
    "## Creating Graph"
   ]
  },
  {
   "cell_type": "code",
   "execution_count": 2,
   "metadata": {},
   "outputs": [],
   "source": [
    "class Vertex:\n",
    "    def __init__(self, name) -> None:\n",
    "        self._id = name\n",
    "        self._weight = None\n",
    "        self._adjacent = {}\n",
    "#------ setting attributes ------#\n",
    "    def set_id(self, name):\n",
    "        self._id = name\n",
    "    def set_weight(self, weight):\n",
    "        self._weight = weight\n",
    "    def add_adjacent(self, other_vertex, edge_weight=None):\n",
    "        self._adjacent[other_vertex._id] = (other_vertex, edge_weight)\n",
    "#------  getting attributes ------#\n",
    "    def get_adjacent_ids(self):\n",
    "        res = {key:value[1] for key, value in self._adjacent.items()}\n",
    "        return res"
   ]
  },
  {
   "cell_type": "code",
   "execution_count": 3,
   "metadata": {},
   "outputs": [],
   "source": [
    "class Graph:\n",
    "    def __init__(self) -> None:\n",
    "        self.vertices = {}\n",
    "#------ setting attributes ------#\n",
    "    def add_vertex(self, name):\n",
    "        vertex = Vertex(name)\n",
    "        self.vertices[name] = vertex\n",
    "        return vertex\n",
    "    def add_undirected_edge(self, vertex_a, vertex_b, edge_weight=None):\n",
    "        vertex_a.add_adjacent(other_vertex = vertex_b, edge_weight=edge_weight)\n",
    "        vertex_b.add_adjacent(other_vertex = vertex_a, edge_weight=edge_weight)\n",
    "    def add_directed_edge(self, start, end, edge_weight=None):\n",
    "        start.add_adjacent(other_vertex = end, edge_weight = edge_weight)\n",
    "#------ getting attributes ------#\n",
    "    def get_vertex(self, name):\n",
    "        return self.vertices[name]"
   ]
  },
  {
   "cell_type": "markdown",
   "metadata": {},
   "source": [
    "## Depth First Search with Stacks"
   ]
  },
  {
   "cell_type": "code",
   "execution_count": 4,
   "metadata": {},
   "outputs": [],
   "source": [
    "# DFS return True or False only  \n",
    "# Every time check the first element in the stack, if it is not the target;\n",
    "# iterate the adjacent vertices and put them in the stack; \n",
    "# repeat above steps, avoid visited vertices.\n",
    "# Keep it going until there is no way and than back to last intersection. \n",
    "\n",
    "class Graph_DFS_basic(Graph):\n",
    "    def get_dfs_basic(self, start_id, stop_id):\n",
    "        stack = list()\n",
    "        visited = set()\n",
    "        \n",
    "        stack.append(start_id)\n",
    "        while stack:\n",
    "            current = stack.pop()\n",
    "            visited.add(current)\n",
    "            if current == stop_id:\n",
    "                return True\n",
    "            \n",
    "            for id, vertex in self.get_vertex(current)._adjacent.items():\n",
    "                if id not in visited:\n",
    "                    stack.append(id)\n",
    "        return False"
   ]
  },
  {
   "cell_type": "code",
   "execution_count": 5,
   "metadata": {},
   "outputs": [
    {
     "data": {
      "text/plain": [
       "True"
      ]
     },
     "execution_count": 5,
     "metadata": {},
     "output_type": "execute_result"
    }
   ],
   "source": [
    "g = Graph_DFS_basic()\n",
    "va = g.add_vertex('a')\n",
    "vb = g.add_vertex('b')\n",
    "vc = g.add_vertex('c')\n",
    "vd = g.add_vertex('d')\n",
    "ve = g.add_vertex('e')\n",
    "vf = g.add_vertex('f')\n",
    "g.add_undirected_edge(va,vb)\n",
    "g.add_undirected_edge(vb,vc)\n",
    "g.add_undirected_edge(vb,vd)\n",
    "g.add_undirected_edge(vc,vd)\n",
    "g.add_undirected_edge(vb,ve)\n",
    "g.add_undirected_edge(vd,ve)\n",
    "g.get_dfs_basic('a', 'e')"
   ]
  },
  {
   "cell_type": "code",
   "execution_count": 6,
   "metadata": {},
   "outputs": [],
   "source": [
    "# DFS return Path weights and Path route  \n",
    "# The attribute weight for each vertex represents the sum of last vertex's weight and the edge weight.\n",
    "# Using dictionary to record each vertex's last vertex, and iterating the dictionary from end to start find the path.\n",
    "\n",
    "class Graph_DFS_weights(Graph):\n",
    "    def get_dfs_route(self, start_id, stop_id):\n",
    "        stack = list()\n",
    "        visited = set()\n",
    "        predecessor = {start_id:None}\n",
    "        \n",
    "        self.get_vertex(start_id).set_weight(0)\n",
    "        stack.append(start_id)\n",
    "        while stack:\n",
    "            current = stack.pop()\n",
    "            visited.add(current)\n",
    "            if current == stop_id:\n",
    "                path = []\n",
    "                while current is not None:\n",
    "                    path.insert(0, current)\n",
    "                    current = predecessor[current]\n",
    "                return True, self.get_vertex(stop_id)._weight, path\n",
    "            \n",
    "            for id, vertex in self.get_vertex(current)._adjacent.items():\n",
    "                if id not in visited:\n",
    "                    vertex[0].set_weight(self.get_vertex(current)._weight + vertex[1])\n",
    "                    stack.append(id)\n",
    "                    predecessor[id] = current\n",
    "        \n",
    "        return False"
   ]
  },
  {
   "cell_type": "code",
   "execution_count": 7,
   "metadata": {},
   "outputs": [
    {
     "data": {
      "text/plain": [
       "(True, 9, ['a', 'b', 'e', 'd'])"
      ]
     },
     "execution_count": 7,
     "metadata": {},
     "output_type": "execute_result"
    }
   ],
   "source": [
    "g = Graph_DFS_weights()\n",
    "va = g.add_vertex('a')\n",
    "vb = g.add_vertex('b')\n",
    "vc = g.add_vertex('c')\n",
    "vd = g.add_vertex('d')\n",
    "ve = g.add_vertex('e')\n",
    "vf = g.add_vertex('f')\n",
    "g.add_undirected_edge(va,vb, 1)\n",
    "g.add_undirected_edge(vb,vc, 2)\n",
    "g.add_undirected_edge(vb,vd, 1)\n",
    "g.add_undirected_edge(vc,vd, 4)\n",
    "g.add_undirected_edge(vb,ve, 3)\n",
    "g.add_undirected_edge(vd,ve, 5)\n",
    "g.get_dfs_route('a', 'd')"
   ]
  },
  {
   "cell_type": "markdown",
   "metadata": {},
   "source": [
    "## Breadth First Search Algorithm  \n",
    "The property of queue is FIFO (first in first out).  \n",
    "So, BFS is different from DFS, it using FIFO to go through all vertices on the same level and then move to next level vertices."
   ]
  },
  {
   "cell_type": "code",
   "execution_count": 8,
   "metadata": {},
   "outputs": [],
   "source": [
    "# Basic BFS just return True or False\n",
    "\n",
    "from collections import deque\n",
    "\n",
    "class Graph_BFS_basic(Graph):\n",
    "    def get_bfs_basic(self, start, goal):\n",
    "        visited = set()\n",
    "        queue = deque()\n",
    "\n",
    "        visited.add(start)\n",
    "        queue.append(start)\n",
    "        while queue:\n",
    "            current = queue.popleft()\n",
    "            visited.add(current)\n",
    "            if current == goal:\n",
    "                return True\n",
    "            for id, vertex in self.get_vertex(current)._adjacent.items():\n",
    "                if id not in visited:\n",
    "                    queue.append(id)\n",
    "                    \n",
    "        return False"
   ]
  },
  {
   "cell_type": "code",
   "execution_count": 9,
   "metadata": {
    "notebookRunGroups": {
     "groupValue": ""
    }
   },
   "outputs": [
    {
     "data": {
      "text/plain": [
       "True"
      ]
     },
     "execution_count": 9,
     "metadata": {},
     "output_type": "execute_result"
    }
   ],
   "source": [
    "g = Graph_BFS_basic()\n",
    "va = g.add_vertex('a')\n",
    "vb = g.add_vertex('b')\n",
    "vc = g.add_vertex('c')\n",
    "vd = g.add_vertex('d')\n",
    "ve = g.add_vertex('e')\n",
    "vf = g.add_vertex('f')\n",
    "g.add_undirected_edge(va,vb, 1)\n",
    "g.add_undirected_edge(va,vc, 2)\n",
    "g.add_undirected_edge(vb,vd, 1)\n",
    "g.add_undirected_edge(vb,ve, 4)\n",
    "\n",
    "g.get_bfs_basic('a', 'c')"
   ]
  },
  {
   "cell_type": "markdown",
   "metadata": {},
   "source": [
    "**Note**: \n",
    "some times the graph if not sample tree structure but a cyclic structure.  \n",
    "Although BFS do it well but the return path would be incorrect.  \n",
    "Pay attention on the existed elements in queue."
   ]
  },
  {
   "cell_type": "code",
   "execution_count": 10,
   "metadata": {},
   "outputs": [],
   "source": [
    "# BFS with weight and path\n",
    "\n",
    "from collections import deque\n",
    "\n",
    "class Graph_BFS_weight(Graph):\n",
    "    def get_bfs_weight(self, start, goal):\n",
    "        visited = set()\n",
    "        queue = deque()\n",
    "        predecessor = {start:None}\n",
    "        self.get_vertex(start).set_weight(0)\n",
    "\n",
    "        visited.add(start)\n",
    "        queue.append(start)\n",
    "        while queue:\n",
    "            current = queue.popleft()\n",
    "            visited.add(current)\n",
    "            if current == goal:\n",
    "                path = []\n",
    "                while current is not None:\n",
    "                    path.insert(0, current)\n",
    "                    current = predecessor[current]\n",
    "\n",
    "                return True, path, self.get_vertex(goal)._weight\n",
    "\n",
    "            for id, vertex in self.get_vertex(current)._adjacent.items():\n",
    "                if id not in visited and id not in queue:\n",
    "                    queue.append(id)\n",
    "                    vertex[0].set_weight(vertex[1]+self.get_vertex(current)._weight)\n",
    "                    predecessor[id] = current\n",
    "                    \n",
    "        return False"
   ]
  },
  {
   "cell_type": "code",
   "execution_count": 11,
   "metadata": {},
   "outputs": [
    {
     "data": {
      "text/plain": [
       "(True, ['a', 'b', 'e'], 2)"
      ]
     },
     "execution_count": 11,
     "metadata": {},
     "output_type": "execute_result"
    }
   ],
   "source": [
    "g = Graph_BFS_weight()\n",
    "va = g.add_vertex('a')\n",
    "vb = g.add_vertex('b')\n",
    "vc = g.add_vertex('c')\n",
    "vd = g.add_vertex('d')\n",
    "ve = g.add_vertex('e')\n",
    "vf = g.add_vertex('f')\n",
    "g.add_undirected_edge(va,vb, 1)\n",
    "g.add_undirected_edge(vb,vc, 3)\n",
    "g.add_undirected_edge(vb,vd, 2)\n",
    "g.add_undirected_edge(vb,ve, 1)\n",
    "g.add_undirected_edge(vc,ve, 4)\n",
    "g.add_undirected_edge(vc,vd, 1)\n",
    "g.add_undirected_edge(ve,vf, 3)\n",
    "g.add_undirected_edge(vd,va, 2)\n",
    "g.add_undirected_edge(vd,ve, 2)\n",
    "\n",
    "g.get_bfs_weight('a', 'e')"
   ]
  },
  {
   "cell_type": "markdown",
   "metadata": {},
   "source": [
    "## Dijkstra's Algorithm (Shortest Path First)"
   ]
  },
  {
   "cell_type": "code",
   "execution_count": 33,
   "metadata": {},
   "outputs": [],
   "source": [
    "import math\n",
    "import heapq\n",
    "\n",
    "class DijkstraVertex():\n",
    "    def __init__(self, name):\n",
    "        self._id = name\n",
    "        self._adjacent = dict()\n",
    "        self._distance = math.inf\n",
    "        self._visited = False # Mark all nodes unvisited  \n",
    "        self._previous = None # Predecessor\n",
    "    def add_neighbour(self, neighbour, weight = 0):\n",
    "        self._adjacent[neighbour] = weight\n",
    "    def get_adjacent(self):\n",
    "        return self._adjacent  \n",
    "    def get_connections(self):\n",
    "        return self._adjacent.keys()  \n",
    "    def get_id(self):\n",
    "        return self._id\n",
    "    def get_weight(self, neighbour):\n",
    "        return self._adjacent[neighbour]\n",
    "    def set_distance(self, dist):\n",
    "        self._distance = dist\n",
    "    def get_distance(self):\n",
    "        return self._distance\n",
    "    def set_previous(self, prev):\n",
    "        self._previous = prev\n",
    "    def get_previous(self):\n",
    "        return self._previous\n",
    "    def set_visited(self):\n",
    "        self._visited = True\n",
    "    def is_visited(self):\n",
    "        return self._visited\n",
    "    def __str__(self):\n",
    "        return str(self._id) + ' adjacent: ' + str([x.id for x in self._adjacent])\n",
    "    def __lt__(self, other):\n",
    "        return self._distance < other.get_distance()\n",
    "\n",
    "#------ Dijkstra's vertex ------#\n",
    "# In Shortest Path First, some new attributes are quite essential\n",
    "# distance, represents that cost from last vertex to the current one.\n",
    "# visited, indicates the current vertex has been visited or not.\n",
    "# previous, the last vertex that come to the current one, and current's distance is sum of previous and edge weight.\n",
    "\n",
    "class DijkstraGraph:\n",
    "    def __init__(self):\n",
    "        self._vertices = dict()\n",
    "    def add_vertex(self, name):\n",
    "        new_vertex = DijkstraVertex(name)\n",
    "        self._vertices[name] = new_vertex\n",
    "        return new_vertex\n",
    "    def get_vertex(self, n):\n",
    "        if n in self._vertices:\n",
    "            return self._vertices[n]\n",
    "        else:\n",
    "            return None\n",
    "    def get_vertices(self):\n",
    "        return list(self._vertices.values())\n",
    "    def add_edge(self, frm, to, cost = 0):\n",
    "        if frm not in self._vertices:\n",
    "            self.add_vertex(frm)\n",
    "        if to not in self._vertices:\n",
    "            self.add_vertex(to)\n",
    "        self._vertices[frm].add_neighbour(self._vertices[to], cost)\n",
    "        self._vertices[to].add_neighbour(self._vertices[frm], cost)\n",
    "    def dijkstra_spf(self, start):\n",
    "        start.set_distance(0)\n",
    "\n",
    "        unvisited_queue = list(self._vertices.values())\n",
    "        heapq.heapify(unvisited_queue)\n",
    "\n",
    "        while unvisited_queue:\n",
    "            current = heapq.heappop(unvisited_queue)\n",
    "            current.set_visited()\n",
    "\n",
    "            for next in current._adjacent:\n",
    "                if next.is_visited():\n",
    "                    continue\n",
    "                new_dist = current.get_distance() + current.get_weight(next)\n",
    "                if new_dist < next.get_distance():\n",
    "                    next.set_distance(new_dist)\n",
    "                    next.set_previous(current)\n",
    "                else:\n",
    "                    pass\n",
    "            \n",
    "            while unvisited_queue:\n",
    "                heapq.heappop(unvisited_queue)\n",
    "            unvisited_queue = [v for v in list(self._vertices.values()) if not v.is_visited()]\n",
    "            heapq.heapify(unvisited_queue)\n",
    "\n",
    "    def get_shortest_path(self, target, path):\n",
    "        if len(path) == 0:\n",
    "            path.append(target.get_id())\n",
    "        previous = target.get_previous()\n",
    "        if previous:\n",
    "            path.append(previous.get_id())\n",
    "            self.get_shortest_path(previous, path)\n",
    "        else:\n",
    "            path.reverse()\n",
    "\n",
    "#------ Dijkstra's Graph ------#\n",
    "# The key function is dijkstra_spf which will set distance for every vertices from the start.\n",
    "# After the work above finished, get_shortest_path func can get shortest path and weight from start above to everyone others.\n"
   ]
  },
  {
   "cell_type": "code",
   "execution_count": 34,
   "metadata": {},
   "outputs": [],
   "source": [
    "edges = [\n",
    "    ('a', 'b', 7),('a', 'f', 14),('a', 'c', 9),('c', 'f', 2),('c', 'b', 10),\n",
    "    ('e', 'f', 9),('e', 'd', 6),('d', 'c', 11),('d', 'b', 15)\n",
    "]\n",
    "ids = ['a', 'b', 'c', 'd', 'e', 'f']\n",
    "source_id = ids[0]\n",
    "\n",
    "graph = DijkstraGraph()\n",
    "for v1,v2,weight in edges:\n",
    "    graph.add_edge(v1, v2, weight)"
   ]
  },
  {
   "cell_type": "code",
   "execution_count": 35,
   "metadata": {},
   "outputs": [
    {
     "name": "stdout",
     "output_type": "stream",
     "text": [
      "The shortest path from a to b is: ['a', 'b'], distance 7\n",
      "The shortest path from a to c is: ['a', 'c'], distance 9\n",
      "The shortest path from a to d is: ['a', 'c', 'd'], distance 20\n",
      "The shortest path from a to e is: ['a', 'c', 'f', 'e'], distance 20\n",
      "The shortest path from a to f is: ['a', 'c', 'f'], distance 11\n"
     ]
    }
   ],
   "source": [
    "graph.dijkstra_spf(graph.get_vertex(source_id))\n",
    "for v in ids[1:]:\n",
    "    target = graph.get_vertex(v)\n",
    "    path = []\n",
    "    g.get_shortest_path(target, path)\n",
    "    print(f'The shortest path from {source_id} to {target.get_id()} is: {path}, distance {target.get_distance()}')"
   ]
  },
  {
   "cell_type": "code",
   "execution_count": null,
   "metadata": {},
   "outputs": [],
   "source": []
  }
 ],
 "metadata": {
  "kernelspec": {
   "display_name": "sklearn-env",
   "language": "python",
   "name": "python3"
  },
  "language_info": {
   "codemirror_mode": {
    "name": "ipython",
    "version": 3
   },
   "file_extension": ".py",
   "mimetype": "text/x-python",
   "name": "python",
   "nbconvert_exporter": "python",
   "pygments_lexer": "ipython3",
   "version": "3.11.4"
  },
  "orig_nbformat": 4
 },
 "nbformat": 4,
 "nbformat_minor": 2
}
