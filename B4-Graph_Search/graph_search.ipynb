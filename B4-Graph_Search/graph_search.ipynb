{
 "cells": [
  {
   "cell_type": "markdown",
   "metadata": {},
   "source": [
    "## Creating Graph"
   ]
  },
  {
   "cell_type": "code",
   "execution_count": 1,
   "metadata": {},
   "outputs": [],
   "source": [
    "class Vertex:\n",
    "    def __init__(self, name) -> None:\n",
    "        self._id = name\n",
    "        self._weight = None\n",
    "        self._adjacent = {}\n",
    "#------ setting attributes ------#\n",
    "    def set_id(self, name):\n",
    "        self._id = name\n",
    "    def set_weight(self, weight):\n",
    "        self._weight = weight\n",
    "    def add_adjacent(self, other_vertex, edge_weight=None):\n",
    "        self._adjacent[other_vertex._id] = (other_vertex, edge_weight)\n",
    "#------  getting attributes ------#\n",
    "    def get_adjacent_ids(self):\n",
    "        res = {key:value[1] for key, value in self._adjacent.items()}\n",
    "        return res"
   ]
  },
  {
   "cell_type": "code",
   "execution_count": 2,
   "metadata": {},
   "outputs": [],
   "source": [
    "class Graph:\n",
    "    def __init__(self) -> None:\n",
    "        self.vertices = {}\n",
    "#------ setting attributes ------#\n",
    "    def add_vertex(self, name):\n",
    "        vertex = Vertex(name)\n",
    "        self.vertices[name] = vertex\n",
    "        return vertex\n",
    "    def add_undirected_edge(self, vertex_a, vertex_b, edge_weight=None):\n",
    "        vertex_a.add_adjacent(other_vertex = vertex_b, edge_weight=edge_weight)\n",
    "        vertex_b.add_adjacent(other_vertex = vertex_a, edge_weight=edge_weight)\n",
    "    def add_directed_edge(self, start, end, edge_weight=None):\n",
    "        start.add_adjacent(other_vertex = end, edge_weight = edge_weight)\n",
    "#------ getting attributes ------#\n",
    "    def get_vertex(self, name):\n",
    "        return self.vertices[name]"
   ]
  },
  {
   "cell_type": "markdown",
   "metadata": {},
   "source": [
    "## Depth First Search with Stacks"
   ]
  },
  {
   "cell_type": "code",
   "execution_count": 3,
   "metadata": {},
   "outputs": [],
   "source": [
    "# DFS return True or False only  \n",
    "# Every time check the first element in the stack, if it is not the target;\n",
    "# iterate the adjacent vertices and put them in the stack; \n",
    "# repeat above steps, avoid visited vertices.\n",
    "# Keep it going until there is no way and than back to last intersection.\n",
    "class Graph_DFS_basic(Graph):\n",
    "    def get_dfs_basic(self, start_id, stop_id):\n",
    "        stack = list()\n",
    "        visited = set()\n",
    "        \n",
    "        stack.append(start_id)\n",
    "        while stack:\n",
    "            current = stack.pop()\n",
    "            visited.add(current)\n",
    "            if current == stop_id:\n",
    "                return True\n",
    "            \n",
    "            for id, vertex in self.get_vertex(current)._adjacent.items():\n",
    "                if id not in visited:\n",
    "                    stack.append(id)\n",
    "        return False"
   ]
  },
  {
   "cell_type": "code",
   "execution_count": 4,
   "metadata": {},
   "outputs": [
    {
     "data": {
      "text/plain": [
       "True"
      ]
     },
     "execution_count": 4,
     "metadata": {},
     "output_type": "execute_result"
    }
   ],
   "source": [
    "g = Graph_DFS_basic()\n",
    "va = g.add_vertex('a')\n",
    "vb = g.add_vertex('b')\n",
    "vc = g.add_vertex('c')\n",
    "vd = g.add_vertex('d')\n",
    "ve = g.add_vertex('e')\n",
    "vf = g.add_vertex('f')\n",
    "g.add_undirected_edge(va,vb)\n",
    "g.add_undirected_edge(vb,vc)\n",
    "g.add_undirected_edge(vb,vd)\n",
    "g.add_undirected_edge(vc,vd)\n",
    "g.add_undirected_edge(vb,ve)\n",
    "g.add_undirected_edge(vd,ve)\n",
    "g.get_dfs_basic('a', 'e')"
   ]
  },
  {
   "cell_type": "code",
   "execution_count": 5,
   "metadata": {},
   "outputs": [],
   "source": [
    "# DFS return Path weights and Path route  \n",
    "# The attribute weight for each vertex represents the sum of last vertex's weight and the edge weight.\n",
    "# Using dictionary to record each vertex's last vertex, and iterating the dictionary from end to start find the path.\n",
    "class Graph_DFS_weights(Graph):\n",
    "    def get_dfs_route(self, start_id, stop_id):\n",
    "        stack = list()\n",
    "        visited = set()\n",
    "        predecessor = {start_id:None}\n",
    "        \n",
    "        self.get_vertex(start_id).set_weight(0)\n",
    "        stack.append(start_id)\n",
    "        while stack:\n",
    "            current = stack.pop()\n",
    "            visited.add(current)\n",
    "            if current == stop_id:\n",
    "                path = []\n",
    "                while current is not None:\n",
    "                    path.insert(0, current)\n",
    "                    current = predecessor[current]\n",
    "                return True, self.get_vertex(stop_id)._weight, path\n",
    "            \n",
    "            for id, vertex in self.get_vertex(current)._adjacent.items():\n",
    "                if id not in visited:\n",
    "                    vertex[0].set_weight(self.get_vertex(current)._weight + vertex[1])\n",
    "                    stack.append(id)\n",
    "                    predecessor[id] = current\n",
    "        \n",
    "        return False"
   ]
  },
  {
   "cell_type": "code",
   "execution_count": 6,
   "metadata": {},
   "outputs": [
    {
     "data": {
      "text/plain": [
       "(True, 9, ['a', 'b', 'e', 'd'])"
      ]
     },
     "execution_count": 6,
     "metadata": {},
     "output_type": "execute_result"
    }
   ],
   "source": [
    "g = Graph_DFS_weights()\n",
    "va = g.add_vertex('a')\n",
    "vb = g.add_vertex('b')\n",
    "vc = g.add_vertex('c')\n",
    "vd = g.add_vertex('d')\n",
    "ve = g.add_vertex('e')\n",
    "vf = g.add_vertex('f')\n",
    "g.add_undirected_edge(va,vb, 1)\n",
    "g.add_undirected_edge(vb,vc, 2)\n",
    "g.add_undirected_edge(vb,vd, 1)\n",
    "g.add_undirected_edge(vc,vd, 4)\n",
    "g.add_undirected_edge(vb,ve, 3)\n",
    "g.add_undirected_edge(vd,ve, 5)\n",
    "g.get_dfs_route('a', 'd')"
   ]
  },
  {
   "cell_type": "markdown",
   "metadata": {},
   "source": [
    "## Breadth First Search Algorithm  \n",
    "The property of queue is FIFO (first in first out).  \n",
    "So, BFS is different from DFS, it using FIFO to go through all vertices on the same level and then move to next level vertices."
   ]
  },
  {
   "cell_type": "code",
   "execution_count": 7,
   "metadata": {},
   "outputs": [],
   "source": [
    "# Basic BFS just return True or False\n",
    "from collections import deque\n",
    "\n",
    "class Graph_BFS_basic(Graph):\n",
    "    def get_bfs_basic(self, start, goal):\n",
    "        visited = set()\n",
    "        queue = deque()\n",
    "\n",
    "        visited.add(start)\n",
    "        queue.append(start)\n",
    "        while queue:\n",
    "            current = queue.popleft()\n",
    "            visited.add(current)\n",
    "            if current == goal:\n",
    "                return True\n",
    "            for id, vertex in self.get_vertex(current)._adjacent.items():\n",
    "                if id not in visited:\n",
    "                    queue.append(id)\n",
    "                    \n",
    "        return False"
   ]
  },
  {
   "cell_type": "code",
   "execution_count": 8,
   "metadata": {
    "notebookRunGroups": {
     "groupValue": ""
    }
   },
   "outputs": [
    {
     "data": {
      "text/plain": [
       "True"
      ]
     },
     "execution_count": 8,
     "metadata": {},
     "output_type": "execute_result"
    }
   ],
   "source": [
    "g = Graph_BFS_basic()\n",
    "va = g.add_vertex('a')\n",
    "vb = g.add_vertex('b')\n",
    "vc = g.add_vertex('c')\n",
    "vd = g.add_vertex('d')\n",
    "ve = g.add_vertex('e')\n",
    "vf = g.add_vertex('f')\n",
    "g.add_undirected_edge(va,vb, 1)\n",
    "g.add_undirected_edge(va,vc, 2)\n",
    "g.add_undirected_edge(vb,vd, 1)\n",
    "g.add_undirected_edge(vb,ve, 4)\n",
    "\n",
    "g.get_bfs_basic('a', 'c')"
   ]
  },
  {
   "cell_type": "markdown",
   "metadata": {},
   "source": [
    "**Note**: \n",
    "some times the graph if not sample tree structure but a cyclic structure.  \n",
    "Although BFS do it well but the return path would be incorrect.  \n",
    "Pay attention on the existed elements in queue."
   ]
  },
  {
   "cell_type": "code",
   "execution_count": 9,
   "metadata": {},
   "outputs": [],
   "source": [
    "# BFS with weight and path\n",
    "from collections import deque\n",
    "\n",
    "class Graph_BFS_weight(Graph):\n",
    "    def get_bfs_weight(self, start, goal):\n",
    "        visited = set()\n",
    "        queue = deque()\n",
    "        predecessor = {start:None}\n",
    "        self.get_vertex(start).set_weight(0)\n",
    "\n",
    "        visited.add(start)\n",
    "        queue.append(start)\n",
    "        while queue:\n",
    "            current = queue.popleft()\n",
    "            visited.add(current)\n",
    "            if current == goal:\n",
    "                path = []\n",
    "                while current is not None:\n",
    "                    path.insert(0, current)\n",
    "                    current = predecessor[current]\n",
    "\n",
    "                return True, path, self.get_vertex(goal)._weight\n",
    "\n",
    "            for id, vertex in self.get_vertex(current)._adjacent.items():\n",
    "                if id not in visited and id not in queue:\n",
    "                    queue.append(id)\n",
    "                    vertex[0].set_weight(vertex[1]+self.get_vertex(current)._weight)\n",
    "                    predecessor[id] = current\n",
    "                    \n",
    "        return False"
   ]
  },
  {
   "cell_type": "code",
   "execution_count": 10,
   "metadata": {},
   "outputs": [
    {
     "data": {
      "text/plain": [
       "(True, ['a', 'b', 'e'], 2)"
      ]
     },
     "execution_count": 10,
     "metadata": {},
     "output_type": "execute_result"
    }
   ],
   "source": [
    "g = Graph_BFS_weight()\n",
    "va = g.add_vertex('a')\n",
    "vb = g.add_vertex('b')\n",
    "vc = g.add_vertex('c')\n",
    "vd = g.add_vertex('d')\n",
    "ve = g.add_vertex('e')\n",
    "vf = g.add_vertex('f')\n",
    "g.add_undirected_edge(va,vb, 1)\n",
    "g.add_undirected_edge(vb,vc, 3)\n",
    "g.add_undirected_edge(vb,vd, 2)\n",
    "g.add_undirected_edge(vb,ve, 1)\n",
    "g.add_undirected_edge(vc,ve, 4)\n",
    "g.add_undirected_edge(vc,vd, 1)\n",
    "g.add_undirected_edge(ve,vf, 3)\n",
    "g.add_undirected_edge(vd,va, 2)\n",
    "g.add_undirected_edge(vd,ve, 2)\n",
    "\n",
    "g.get_bfs_weight('a', 'e')"
   ]
  },
  {
   "cell_type": "markdown",
   "metadata": {},
   "source": [
    "## Dijkstra's Algorithm"
   ]
  },
  {
   "cell_type": "code",
   "execution_count": 11,
   "metadata": {},
   "outputs": [],
   "source": []
  },
  {
   "cell_type": "code",
   "execution_count": null,
   "metadata": {},
   "outputs": [],
   "source": []
  },
  {
   "cell_type": "code",
   "execution_count": null,
   "metadata": {},
   "outputs": [],
   "source": []
  }
 ],
 "metadata": {
  "kernelspec": {
   "display_name": "sklearn-env",
   "language": "python",
   "name": "python3"
  },
  "language_info": {
   "codemirror_mode": {
    "name": "ipython",
    "version": 3
   },
   "file_extension": ".py",
   "mimetype": "text/x-python",
   "name": "python",
   "nbconvert_exporter": "python",
   "pygments_lexer": "ipython3",
   "version": "3.11.4"
  },
  "orig_nbformat": 4
 },
 "nbformat": 4,
 "nbformat_minor": 2
}
