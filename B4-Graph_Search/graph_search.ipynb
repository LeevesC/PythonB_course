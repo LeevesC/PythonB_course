{
 "cells": [
  {
   "cell_type": "markdown",
   "metadata": {},
   "source": [
    "## Creating Graph"
   ]
  },
  {
   "cell_type": "code",
   "execution_count": 68,
   "metadata": {},
   "outputs": [],
   "source": [
    "class Vertex:\n",
    "    def __init__(self, name) -> None:\n",
    "        self._id = name\n",
    "        self._weight = None\n",
    "        self._adjacent = {}\n",
    "#------ setting attributes ------#\n",
    "    def set_id(self, name):\n",
    "        self._id = name\n",
    "    def set_weight(self, weight):\n",
    "        self._weight = weight\n",
    "    def add_adjacent(self, other_vertex, edge_weight=None):\n",
    "        self._adjacent[other_vertex._id] = (other_vertex, edge_weight)\n",
    "#------  getting attributes ------#\n",
    "    def get_adjacent_ids(self):\n",
    "        res = {key:value[1] for key, value in self._adjacent.items()}\n",
    "        return res"
   ]
  },
  {
   "cell_type": "code",
   "execution_count": 69,
   "metadata": {},
   "outputs": [],
   "source": [
    "class Graph:\n",
    "    def __init__(self) -> None:\n",
    "        self.vertices = {}\n",
    "#------ setting attributes ------#\n",
    "    def add_vertex(self, name):\n",
    "        vertex = Vertex(name)\n",
    "        self.vertices[name] = vertex\n",
    "        return vertex\n",
    "    def add_undirected_edge(self, vertex_a, vertex_b, edge_weight=None):\n",
    "        vertex_a.add_adjacent(other_vertex = vertex_b, edge_weight=edge_weight)\n",
    "        vertex_b.add_adjacent(other_vertex = vertex_a, edge_weight=edge_weight)\n",
    "    def add_directed_edge(self, start, end, edge_weight=None):\n",
    "        start.add_adjacent(other_vertex = end, edge_weight = edge_weight)\n",
    "#------ getting attributes ------#\n",
    "    def get_vertex(self, name):\n",
    "        return self.vertices[name]"
   ]
  },
  {
   "cell_type": "markdown",
   "metadata": {},
   "source": [
    "## Depth First Search with Stacks"
   ]
  },
  {
   "cell_type": "code",
   "execution_count": 70,
   "metadata": {},
   "outputs": [],
   "source": [
    "# DFS return True or False only\n",
    "class Graph_DFS_basic(Graph):\n",
    "    def get_dfs_basic(self, start_id, stop_id):\n",
    "        stack = list()\n",
    "        visited = set()\n",
    "        \n",
    "        stack.append(start_id)\n",
    "        while stack:\n",
    "            current = stack.pop()\n",
    "            visited.add(current)\n",
    "            if current == stop_id:\n",
    "                return True\n",
    "            \n",
    "            for vertex in self.get_vertex(current)._adjacent:\n",
    "                if vertex[0] not in visited:\n",
    "                    stack.append(vertex[0])\n",
    "        return False"
   ]
  },
  {
   "cell_type": "code",
   "execution_count": 54,
   "metadata": {},
   "outputs": [],
   "source": [
    "# DFS return Path weights and Path route\n",
    "class Graph_DFS_weights(Graph):\n",
    "    def get_dfs_route(self, start_id, stop_id):\n",
    "        stack = list()\n",
    "        visited = set()\n",
    "        \n",
    "        self.get_vertex(start_id).set_weight(0)\n",
    "        stack.append(start_id)\n",
    "        while stack:\n",
    "            current = stack.pop()\n",
    "            visited.add(current)\n",
    "        "
   ]
  },
  {
   "cell_type": "code",
   "execution_count": 76,
   "metadata": {},
   "outputs": [],
   "source": [
    "g = Graph_DFS_basic()\n",
    "va = g.add_vertex('a')\n",
    "vb = g.add_vertex('b')\n",
    "vc = g.add_vertex('c')\n",
    "vd = g.add_vertex('d')\n",
    "ve = g.add_vertex('e')\n",
    "vf = g.add_vertex('f')\n",
    "g.add_undirected_edge(va,vb)\n",
    "g.add_undirected_edge(vb,vc)\n",
    "g.add_undirected_edge(vb,vd)\n",
    "g.add_undirected_edge(vc,vd)\n",
    "g.add_undirected_edge(vb,ve)\n",
    "g.add_undirected_edge(vd,ve)"
   ]
  },
  {
   "cell_type": "code",
   "execution_count": 81,
   "metadata": {},
   "outputs": [
    {
     "data": {
      "text/plain": [
       "False"
      ]
     },
     "execution_count": 81,
     "metadata": {},
     "output_type": "execute_result"
    }
   ],
   "source": [
    "g.get_dfs_basic('b', 'f')"
   ]
  },
  {
   "cell_type": "code",
   "execution_count": null,
   "metadata": {},
   "outputs": [],
   "source": []
  }
 ],
 "metadata": {
  "kernelspec": {
   "display_name": "sklearn-env",
   "language": "python",
   "name": "python3"
  },
  "language_info": {
   "codemirror_mode": {
    "name": "ipython",
    "version": 3
   },
   "file_extension": ".py",
   "mimetype": "text/x-python",
   "name": "python",
   "nbconvert_exporter": "python",
   "pygments_lexer": "ipython3",
   "version": "3.11.4"
  },
  "orig_nbformat": 4
 },
 "nbformat": 4,
 "nbformat_minor": 2
}
