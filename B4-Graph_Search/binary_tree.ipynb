{
 "cells": [
  {
   "cell_type": "markdown",
   "metadata": {},
   "source": [
    "## Creating Binary Tree"
   ]
  },
  {
   "cell_type": "code",
   "execution_count": 26,
   "metadata": {},
   "outputs": [],
   "source": [
    "class TreeVertex:\n",
    "    def __init__(self, value=None):\n",
    "        self._value = value\n",
    "        self._left = None\n",
    "        self._right = None\n",
    "#--------- setting attributes ---------#\n",
    "    def set_value(self):\n",
    "        self._value = value\n",
    "    def set_left(self, new_left):\n",
    "        self._left = new_left\n",
    "    def set_right(self, new_right):\n",
    "        self._right = new_right\n",
    "#--------- getting attributes ---------#\n",
    "    def get_value(self):\n",
    "        return self._value\n",
    "    def get_left(self):\n",
    "        return self._left\n",
    "    def get_right(self):\n",
    "        return self._right\n",
    "    def __str__(self):\n",
    "        return self._value\n",
    "#------- inserting sub-vertices -------#\n",
    "    def insert(self, value):\n",
    "        if self._value is None:\n",
    "            self._value = value\n",
    "        elif value == self._value:\n",
    "            return self\n",
    "        elif value < self._value:\n",
    "            if self._left is None:\n",
    "                self.set_left(TreeVertex(value))\n",
    "            else:\n",
    "                self._left.insert(value)\n",
    "        else:\n",
    "            if self._right is None:\n",
    "                self.set_right(TreeVertex(value))\n",
    "            else:\n",
    "                self._right.insert(value)"
   ]
  },
  {
   "cell_type": "code",
   "execution_count": 27,
   "metadata": {},
   "outputs": [],
   "source": [
    "class BinarySearchTree:\n",
    "    def __init__(self):\n",
    "        self._root = None\n",
    "#------- Adding value for the tree -----#\n",
    "    def insert_value(self, value):\n",
    "        if self._root is None:\n",
    "            self._root = TreeVertex(value)\n",
    "        else:\n",
    "            self._root.insert(value)\n",
    "#--------- searching function ----------#\n",
    "    def search_vertex(self, value):\n",
    "        found = False\n",
    "        previous_vertex = None\n",
    "        current_vertex = self._root\n",
    "        \n",
    "        while not found and current_vertex is not None:\n",
    "            if current_vertex.get_value() == value:\n",
    "                found = True\n",
    "            elif current_vertex.get_value() > value:\n",
    "                previous_vertex = current_vertex\n",
    "                current_vertex = previous_vertex.get_left()\n",
    "            else:\n",
    "                previous_vertex = current_vertex\n",
    "                current_vertex = previous_vertex.get_right()\n",
    "        return found, current_vertex, previous_vertex"
   ]
  },
  {
   "cell_type": "code",
   "execution_count": 42,
   "metadata": {},
   "outputs": [],
   "source": [
    "tree = BinarySearchTree()\n",
    "tree.insert_value (1)\n",
    "tree.insert_value (3)\n",
    "tree.insert_value (4)\n",
    "tree.insert_value (5)\n",
    "tree.insert_value (6)\n",
    "tree.insert_value (7)\n",
    "tree.insert_value (9)\n",
    "tree.insert_value (-1)\n",
    "tree.insert_value (2)"
   ]
  },
  {
   "cell_type": "code",
   "execution_count": 45,
   "metadata": {},
   "outputs": [
    {
     "name": "stdout",
     "output_type": "stream",
     "text": [
      "the target is 3\n",
      "the target father is 1\n"
     ]
    }
   ],
   "source": [
    "found, current, previous = tree.search_vertex(3)\n",
    "if found:\n",
    "    print(f'the target is {current.get_value()}')\n",
    "    print(f'the target father is {previous.get_value()}')"
   ]
  },
  {
   "cell_type": "code",
   "execution_count": 18,
   "metadata": {},
   "outputs": [],
   "source": []
  },
  {
   "cell_type": "code",
   "execution_count": 19,
   "metadata": {},
   "outputs": [],
   "source": []
  },
  {
   "cell_type": "code",
   "execution_count": 23,
   "metadata": {},
   "outputs": [
    {
     "data": {
      "text/plain": [
       "4"
      ]
     },
     "execution_count": 23,
     "metadata": {},
     "output_type": "execute_result"
    }
   ],
   "source": []
  },
  {
   "cell_type": "code",
   "execution_count": null,
   "metadata": {},
   "outputs": [],
   "source": []
  }
 ],
 "metadata": {
  "kernelspec": {
   "display_name": "sklearn-env",
   "language": "python",
   "name": "python3"
  },
  "language_info": {
   "codemirror_mode": {
    "name": "ipython",
    "version": 3
   },
   "file_extension": ".py",
   "mimetype": "text/x-python",
   "name": "python",
   "nbconvert_exporter": "python",
   "pygments_lexer": "ipython3",
   "version": "3.11.4"
  },
  "orig_nbformat": 4
 },
 "nbformat": 4,
 "nbformat_minor": 2
}
